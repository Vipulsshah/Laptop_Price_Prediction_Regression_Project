{
 "cells": [
  {
   "cell_type": "markdown",
   "id": "bc9add18",
   "metadata": {},
   "source": [
    "## 1) Importing important libraries and dataset:"
   ]
  },
  {
   "cell_type": "code",
   "execution_count": 1,
   "id": "d9cc1e3f",
   "metadata": {},
   "outputs": [],
   "source": [
    "import pandas as pd\n",
    "import numpy as np\n",
    "import matplotlib.pyplot as plt\n",
    "import seaborn as sns\n",
    "sns.set()\n",
    "%matplotlib inline"
   ]
  },
  {
   "cell_type": "code",
   "execution_count": 2,
   "id": "925c9e4c",
   "metadata": {},
   "outputs": [
    {
     "data": {
      "text/html": [
       "<div>\n",
       "<style scoped>\n",
       "    .dataframe tbody tr th:only-of-type {\n",
       "        vertical-align: middle;\n",
       "    }\n",
       "\n",
       "    .dataframe tbody tr th {\n",
       "        vertical-align: top;\n",
       "    }\n",
       "\n",
       "    .dataframe thead th {\n",
       "        text-align: right;\n",
       "    }\n",
       "</style>\n",
       "<table border=\"1\" class=\"dataframe\">\n",
       "  <thead>\n",
       "    <tr style=\"text-align: right;\">\n",
       "      <th></th>\n",
       "      <th>Unnamed: 0</th>\n",
       "      <th>Company</th>\n",
       "      <th>TypeName</th>\n",
       "      <th>Inches</th>\n",
       "      <th>ScreenResolution</th>\n",
       "      <th>Cpu</th>\n",
       "      <th>Ram</th>\n",
       "      <th>Memory</th>\n",
       "      <th>Gpu</th>\n",
       "      <th>OpSys</th>\n",
       "      <th>Weight</th>\n",
       "      <th>Price</th>\n",
       "    </tr>\n",
       "  </thead>\n",
       "  <tbody>\n",
       "    <tr>\n",
       "      <th>0</th>\n",
       "      <td>0</td>\n",
       "      <td>Apple</td>\n",
       "      <td>Ultrabook</td>\n",
       "      <td>13.3</td>\n",
       "      <td>IPS Panel Retina Display 2560x1600</td>\n",
       "      <td>Intel Core i5 2.3GHz</td>\n",
       "      <td>8GB</td>\n",
       "      <td>128GB SSD</td>\n",
       "      <td>Intel Iris Plus Graphics 640</td>\n",
       "      <td>macOS</td>\n",
       "      <td>1.37kg</td>\n",
       "      <td>71378.6832</td>\n",
       "    </tr>\n",
       "    <tr>\n",
       "      <th>1</th>\n",
       "      <td>1</td>\n",
       "      <td>Apple</td>\n",
       "      <td>Ultrabook</td>\n",
       "      <td>13.3</td>\n",
       "      <td>1440x900</td>\n",
       "      <td>Intel Core i5 1.8GHz</td>\n",
       "      <td>8GB</td>\n",
       "      <td>128GB Flash Storage</td>\n",
       "      <td>Intel HD Graphics 6000</td>\n",
       "      <td>macOS</td>\n",
       "      <td>1.34kg</td>\n",
       "      <td>47895.5232</td>\n",
       "    </tr>\n",
       "  </tbody>\n",
       "</table>\n",
       "</div>"
      ],
      "text/plain": [
       "   Unnamed: 0 Company   TypeName  Inches                    ScreenResolution  \\\n",
       "0           0   Apple  Ultrabook    13.3  IPS Panel Retina Display 2560x1600   \n",
       "1           1   Apple  Ultrabook    13.3                            1440x900   \n",
       "\n",
       "                    Cpu  Ram               Memory  \\\n",
       "0  Intel Core i5 2.3GHz  8GB            128GB SSD   \n",
       "1  Intel Core i5 1.8GHz  8GB  128GB Flash Storage   \n",
       "\n",
       "                            Gpu  OpSys  Weight       Price  \n",
       "0  Intel Iris Plus Graphics 640  macOS  1.37kg  71378.6832  \n",
       "1        Intel HD Graphics 6000  macOS  1.34kg  47895.5232  "
      ]
     },
     "execution_count": 2,
     "metadata": {},
     "output_type": "execute_result"
    }
   ],
   "source": [
    "df = pd.read_csv(\"F:/Data Science/Data Sets/Laptop Price Prediction/laptop_data.csv\")\n",
    "df.head(2)"
   ]
  },
  {
   "cell_type": "code",
   "execution_count": 3,
   "id": "8d45416e",
   "metadata": {},
   "outputs": [
    {
     "data": {
      "text/plain": [
       "(1303, 12)"
      ]
     },
     "execution_count": 3,
     "metadata": {},
     "output_type": "execute_result"
    }
   ],
   "source": [
    "df.shape"
   ]
  },
  {
   "cell_type": "markdown",
   "id": "ce4f7cc8",
   "metadata": {},
   "source": [
    "## Conclusions:\n",
    "- \"Unnamed: 0\" is a index column (which we can remove).\n",
    "- \"Company\" column has some entries with very few frequency (we can remove those company rows).\n",
    "- 'TypeName' comlumn has no issues.\n",
    "- 'Inches' column has some entries with very few frequency (we can remove those company rows).\n",
    "- 'ScreenResolution' column has many irregularities\n",
    "- 'Cpu' column has many irregularities.\n",
    "- 'Ram' column has vary few entries of 24GB and 64GB (we can remove those rows)\n",
    "- 'Memory' column has many irregularities.\n",
    "- 'Gpu' column has many irregularities.\n",
    "- 'OpSys' column has some entries with very few frequency (we can remove those company rows).\n",
    "- 'Weight' column has 'kg' string which can be removed and column should be converted to float."
   ]
  },
  {
   "cell_type": "markdown",
   "id": "c9621d0c",
   "metadata": {},
   "source": [
    "## Preprocessing:"
   ]
  },
  {
   "cell_type": "markdown",
   "id": "df4335a3",
   "metadata": {},
   "source": [
    "### 1) Removing 'Unnamed: 0' column:"
   ]
  },
  {
   "cell_type": "code",
   "execution_count": 4,
   "id": "167caa09",
   "metadata": {},
   "outputs": [
    {
     "data": {
      "text/html": [
       "<div>\n",
       "<style scoped>\n",
       "    .dataframe tbody tr th:only-of-type {\n",
       "        vertical-align: middle;\n",
       "    }\n",
       "\n",
       "    .dataframe tbody tr th {\n",
       "        vertical-align: top;\n",
       "    }\n",
       "\n",
       "    .dataframe thead th {\n",
       "        text-align: right;\n",
       "    }\n",
       "</style>\n",
       "<table border=\"1\" class=\"dataframe\">\n",
       "  <thead>\n",
       "    <tr style=\"text-align: right;\">\n",
       "      <th></th>\n",
       "      <th>Company</th>\n",
       "      <th>TypeName</th>\n",
       "      <th>Inches</th>\n",
       "      <th>ScreenResolution</th>\n",
       "      <th>Cpu</th>\n",
       "      <th>Ram</th>\n",
       "      <th>Memory</th>\n",
       "      <th>Gpu</th>\n",
       "      <th>OpSys</th>\n",
       "      <th>Weight</th>\n",
       "      <th>Price</th>\n",
       "    </tr>\n",
       "  </thead>\n",
       "  <tbody>\n",
       "    <tr>\n",
       "      <th>0</th>\n",
       "      <td>Apple</td>\n",
       "      <td>Ultrabook</td>\n",
       "      <td>13.3</td>\n",
       "      <td>IPS Panel Retina Display 2560x1600</td>\n",
       "      <td>Intel Core i5 2.3GHz</td>\n",
       "      <td>8GB</td>\n",
       "      <td>128GB SSD</td>\n",
       "      <td>Intel Iris Plus Graphics 640</td>\n",
       "      <td>macOS</td>\n",
       "      <td>1.37kg</td>\n",
       "      <td>71378.6832</td>\n",
       "    </tr>\n",
       "    <tr>\n",
       "      <th>1</th>\n",
       "      <td>Apple</td>\n",
       "      <td>Ultrabook</td>\n",
       "      <td>13.3</td>\n",
       "      <td>1440x900</td>\n",
       "      <td>Intel Core i5 1.8GHz</td>\n",
       "      <td>8GB</td>\n",
       "      <td>128GB Flash Storage</td>\n",
       "      <td>Intel HD Graphics 6000</td>\n",
       "      <td>macOS</td>\n",
       "      <td>1.34kg</td>\n",
       "      <td>47895.5232</td>\n",
       "    </tr>\n",
       "  </tbody>\n",
       "</table>\n",
       "</div>"
      ],
      "text/plain": [
       "  Company   TypeName  Inches                    ScreenResolution  \\\n",
       "0   Apple  Ultrabook    13.3  IPS Panel Retina Display 2560x1600   \n",
       "1   Apple  Ultrabook    13.3                            1440x900   \n",
       "\n",
       "                    Cpu  Ram               Memory  \\\n",
       "0  Intel Core i5 2.3GHz  8GB            128GB SSD   \n",
       "1  Intel Core i5 1.8GHz  8GB  128GB Flash Storage   \n",
       "\n",
       "                            Gpu  OpSys  Weight       Price  \n",
       "0  Intel Iris Plus Graphics 640  macOS  1.37kg  71378.6832  \n",
       "1        Intel HD Graphics 6000  macOS  1.34kg  47895.5232  "
      ]
     },
     "execution_count": 4,
     "metadata": {},
     "output_type": "execute_result"
    }
   ],
   "source": [
    "df.drop(['Unnamed: 0'], axis=1, inplace=True)\n",
    "df.head(2)"
   ]
  },
  {
   "cell_type": "markdown",
   "id": "e2cc2f49",
   "metadata": {},
   "source": [
    "### 2) Checking duplicates:"
   ]
  },
  {
   "cell_type": "code",
   "execution_count": 5,
   "id": "b88437e9",
   "metadata": {},
   "outputs": [
    {
     "data": {
      "text/plain": [
       "29"
      ]
     },
     "execution_count": 5,
     "metadata": {},
     "output_type": "execute_result"
    }
   ],
   "source": [
    "df.duplicated().sum()"
   ]
  },
  {
   "cell_type": "code",
   "execution_count": 6,
   "id": "dbc1822c",
   "metadata": {},
   "outputs": [],
   "source": [
    "df = df.drop_duplicates()"
   ]
  },
  {
   "cell_type": "markdown",
   "id": "85acc761",
   "metadata": {},
   "source": [
    "### 3)  Checking Null Values:"
   ]
  },
  {
   "cell_type": "code",
   "execution_count": 7,
   "id": "4c2def37",
   "metadata": {},
   "outputs": [
    {
     "data": {
      "text/plain": [
       "Company             0\n",
       "TypeName            0\n",
       "Inches              0\n",
       "ScreenResolution    0\n",
       "Cpu                 0\n",
       "Ram                 0\n",
       "Memory              0\n",
       "Gpu                 0\n",
       "OpSys               0\n",
       "Weight              0\n",
       "Price               0\n",
       "dtype: int64"
      ]
     },
     "execution_count": 7,
     "metadata": {},
     "output_type": "execute_result"
    }
   ],
   "source": [
    "df.isnull().sum()"
   ]
  },
  {
   "cell_type": "markdown",
   "id": "844581f4",
   "metadata": {},
   "source": [
    "### 4) 'Price' column: Removing Outliers:"
   ]
  },
  {
   "cell_type": "code",
   "execution_count": 8,
   "id": "73dc0012",
   "metadata": {},
   "outputs": [
    {
     "name": "stderr",
     "output_type": "stream",
     "text": [
      "C:\\Users\\LENOVO\\anaconda3\\lib\\site-packages\\seaborn\\distributions.py:2551: FutureWarning: `distplot` is a deprecated function and will be removed in a future version. Please adapt your code to use either `displot` (a figure-level function with similar flexibility) or `histplot` (an axes-level function for histograms).\n",
      "  warnings.warn(msg, FutureWarning)\n"
     ]
    },
    {
     "data": {
      "text/plain": [
       "<AxesSubplot:xlabel='Price', ylabel='Density'>"
      ]
     },
     "execution_count": 8,
     "metadata": {},
     "output_type": "execute_result"
    },
    {
     "data": {
      "image/png": "[encoded data removed]",
      "text/plain": [
       "<Figure size 432x288 with 1 Axes>"
      ]
     },
     "metadata": {
      "needs_background": "light"
     },
     "output_type": "display_data"
    }
   ],
   "source": [
    "sns.distplot(df['Price'])"
   ]
  },
  {
   "cell_type": "code",
   "execution_count": 9,
   "id": "f6c38a12",
   "metadata": {},
   "outputs": [],
   "source": [
    "q = df['Price'].quantile(0.99)\n",
    "df = df[df['Price']<q]"
   ]
  },
  {
   "cell_type": "code",
   "execution_count": 10,
   "id": "db8a03de",
   "metadata": {},
   "outputs": [
    {
     "data": {
      "text/plain": [
       "<seaborn.axisgrid.FacetGrid at 0x254f470fd90>"
      ]
     },
     "execution_count": 10,
     "metadata": {},
     "output_type": "execute_result"
    },
    {
     "data": {
      "image/png": "[encoded data removed]",
      "text/plain": [
       "<Figure size 360x360 with 1 Axes>"
      ]
     },
     "metadata": {
      "needs_background": "light"
     },
     "output_type": "display_data"
    }
   ],
   "source": [
    "sns.displot(df['Price'])"
   ]
  },
  {
   "cell_type": "markdown",
   "id": "cdc114d3",
   "metadata": {},
   "source": [
    "#### Checkpoint 1:"
   ]
  },
  {
   "cell_type": "code",
   "execution_count": 11,
   "id": "9e0f73be",
   "metadata": {},
   "outputs": [],
   "source": [
    "df_2 = df.copy()"
   ]
  },
  {
   "cell_type": "markdown",
   "id": "d79cac95",
   "metadata": {},
   "source": [
    "### 5) 'Company' column:"
   ]
  },
  {
   "cell_type": "code",
   "execution_count": 12,
   "id": "5827479e",
   "metadata": {},
   "outputs": [
    {
     "data": {
      "text/plain": [
       "<AxesSubplot:xlabel='Company', ylabel='Price'>"
      ]
     },
     "execution_count": 12,
     "metadata": {},
     "output_type": "execute_result"
    },
    {
     "data": {
      "image/png": "[encoded data removed]",
      "text/plain": [
       "<Figure size 432x288 with 1 Axes>"
      ]
     },
     "metadata": {
      "needs_background": "light"
     },
     "output_type": "display_data"
    }
   ],
   "source": [
    "sns.barplot(x=df_2['Company'],y=df_2['Price'])"
   ]
  },
  {
   "cell_type": "code",
   "execution_count": 13,
   "id": "d7455fc3",
   "metadata": {},
   "outputs": [
    {
     "data": {
      "text/plain": [
       "<AxesSubplot:>"
      ]
     },
     "execution_count": 13,
     "metadata": {},
     "output_type": "execute_result"
    },
    {
     "data": {
      "image/png": "[encoded data removed]",
      "text/plain": [
       "<Figure size 432x288 with 1 Axes>"
      ]
     },
     "metadata": {
      "needs_background": "light"
     },
     "output_type": "display_data"
    }
   ],
   "source": [
    "df_2['Company'].value_counts().plot(kind='bar')"
   ]
  },
  {
   "cell_type": "code",
   "execution_count": 14,
   "id": "39cddace",
   "metadata": {},
   "outputs": [],
   "source": [
    "Company_drop = [\"Xiaomi\", \"Vero\", \"Google\", \"Chuwi\", \"Fujitsu\", \"LG\", \"Huawei\"]"
   ]
  },
  {
   "cell_type": "code",
   "execution_count": 15,
   "id": "584ac7fd",
   "metadata": {},
   "outputs": [],
   "source": [
    "for i in range(len(Company_drop)):\n",
    "    df_2 = df_2.drop(df_2[df_2.Company == Company_drop[i]].index)"
   ]
  },
  {
   "cell_type": "code",
   "execution_count": 16,
   "id": "0f05fed8",
   "metadata": {},
   "outputs": [
    {
     "data": {
      "text/plain": [
       "array(['Apple', 'HP', 'Acer', 'Asus', 'Dell', 'Lenovo', 'MSI',\n",
       "       'Microsoft', 'Toshiba', 'Mediacom', 'Samsung', 'Razer'],\n",
       "      dtype=object)"
      ]
     },
     "execution_count": 16,
     "metadata": {},
     "output_type": "execute_result"
    }
   ],
   "source": [
    "df_2['Company'].unique()"
   ]
  },
  {
   "cell_type": "code",
   "execution_count": 17,
   "id": "ea7da9f4",
   "metadata": {},
   "outputs": [
    {
     "data": {
      "text/plain": [
       "<AxesSubplot:>"
      ]
     },
     "execution_count": 17,
     "metadata": {},
     "output_type": "execute_result"
    },
    {
     "data": {
      "image/png": "[encoded data removed]",
      "text/plain": [
       "<Figure size 432x288 with 1 Axes>"
      ]
     },
     "metadata": {
      "needs_background": "light"
     },
     "output_type": "display_data"
    }
   ],
   "source": [
    "df_2['Company'].value_counts().plot(kind='bar')"
   ]
  },
  {
   "cell_type": "markdown",
   "id": "9911beb5",
   "metadata": {},
   "source": [
    "#### Checkpoint 2:"
   ]
  },
  {
   "cell_type": "code",
   "execution_count": 18,
   "id": "8afa6998",
   "metadata": {},
   "outputs": [],
   "source": [
    "df_3 = df_2.copy()"
   ]
  },
  {
   "cell_type": "markdown",
   "id": "69ffa2a1",
   "metadata": {},
   "source": [
    "### 6) 'Ram' column:"
   ]
  },
  {
   "cell_type": "code",
   "execution_count": 19,
   "id": "dfe043af",
   "metadata": {},
   "outputs": [
    {
     "data": {
      "text/plain": [
       "<AxesSubplot:>"
      ]
     },
     "execution_count": 19,
     "metadata": {},
     "output_type": "execute_result"
    },
    {
     "data": {
      "image/png": "[encoded data removed]",
      "text/plain": [
       "<Figure size 432x288 with 1 Axes>"
      ]
     },
     "metadata": {
      "needs_background": "light"
     },
     "output_type": "display_data"
    }
   ],
   "source": [
    "df_3['Ram'].value_counts().plot(kind='bar')"
   ]
  },
  {
   "cell_type": "code",
   "execution_count": 20,
   "id": "7c421d08",
   "metadata": {},
   "outputs": [
    {
     "data": {
      "text/plain": [
       "<AxesSubplot:xlabel='Ram', ylabel='Price'>"
      ]
     },
     "execution_count": 20,
     "metadata": {},
     "output_type": "execute_result"
    },
    {
     "data": {
      "image/png": "[encoded data removed]",
      "text/plain": [
       "<Figure size 432x288 with 1 Axes>"
      ]
     },
     "metadata": {
      "needs_background": "light"
     },
     "output_type": "display_data"
    }
   ],
   "source": [
    "sns.barplot(x=df_3['Ram'],y=df_3['Price'])"
   ]
  },
  {
   "cell_type": "code",
   "execution_count": 21,
   "id": "9f10fe76",
   "metadata": {},
   "outputs": [],
   "source": [
    "Ram_drop = ['24GB','64GB']"
   ]
  },
  {
   "cell_type": "code",
   "execution_count": 22,
   "id": "b047a163",
   "metadata": {},
   "outputs": [],
   "source": [
    "for i in range(len(Ram_drop)):\n",
    "    df_3 = df_3.drop(df_3[df_3.Ram == Ram_drop[i]].index)"
   ]
  },
  {
   "cell_type": "code",
   "execution_count": 23,
   "id": "24609386",
   "metadata": {},
   "outputs": [
    {
     "data": {
      "text/plain": [
       "8GB     601\n",
       "4GB     360\n",
       "16GB    191\n",
       "6GB      34\n",
       "12GB     25\n",
       "2GB      15\n",
       "32GB     10\n",
       "Name: Ram, dtype: int64"
      ]
     },
     "execution_count": 23,
     "metadata": {},
     "output_type": "execute_result"
    }
   ],
   "source": [
    "df_3['Ram'].value_counts()"
   ]
  },
  {
   "cell_type": "code",
   "execution_count": 24,
   "id": "cf621924",
   "metadata": {},
   "outputs": [],
   "source": [
    "df_3['Ram'] = df_3['Ram'].str.replace('GB','')\n",
    "df_3['Ram'] = df_3['Ram'].astype(int)"
   ]
  },
  {
   "cell_type": "markdown",
   "id": "d2513124",
   "metadata": {},
   "source": [
    "#### Checkpoint 3:"
   ]
  },
  {
   "cell_type": "code",
   "execution_count": 25,
   "id": "f2847c18",
   "metadata": {},
   "outputs": [],
   "source": [
    "df_4 = df_3.copy()"
   ]
  },
  {
   "cell_type": "markdown",
   "id": "198985af",
   "metadata": {},
   "source": [
    "### 7) 'OpSys' column"
   ]
  },
  {
   "cell_type": "code",
   "execution_count": 26,
   "id": "33c583f8",
   "metadata": {},
   "outputs": [
    {
     "data": {
      "image/png": "[encoded data removed]",
      "text/plain": [
       "<Figure size 432x288 with 1 Axes>"
      ]
     },
     "metadata": {
      "needs_background": "light"
     },
     "output_type": "display_data"
    }
   ],
   "source": [
    "sns.barplot(x=df_4['OpSys'],y=df_4['Price'])\n",
    "plt.xticks(rotation='vertical')\n",
    "plt.show()"
   ]
  },
  {
   "cell_type": "code",
   "execution_count": 27,
   "id": "1873bdc3",
   "metadata": {},
   "outputs": [
    {
     "data": {
      "text/plain": [
       "Windows 10      1017\n",
       "No OS             63\n",
       "Linux             58\n",
       "Windows 7         43\n",
       "Chrome OS         24\n",
       "macOS             13\n",
       "Mac OS X           8\n",
       "Windows 10 S       8\n",
       "Android            2\n",
       "Name: OpSys, dtype: int64"
      ]
     },
     "execution_count": 27,
     "metadata": {},
     "output_type": "execute_result"
    }
   ],
   "source": [
    "df_4['OpSys'].value_counts()"
   ]
  },
  {
   "cell_type": "code",
   "execution_count": 28,
   "id": "3db2164d",
   "metadata": {},
   "outputs": [],
   "source": [
    "def operating_sys(text):\n",
    "    if text == 'Windows 7' or text == \"Windows 10\" or text == \"Windows 10 S\":\n",
    "        return \"Windows\"\n",
    "    else:\n",
    "        if text == \"macOS\" or text == \"Mac OS X\":\n",
    "            return \"macOS\"\n",
    "        else:\n",
    "            return \"No OS/Linux/Chrome/Android\""
   ]
  },
  {
   "cell_type": "code",
   "execution_count": 29,
   "id": "4bbd1e59",
   "metadata": {},
   "outputs": [],
   "source": [
    "df_4['OpSys'] = df_4['OpSys'].apply(operating_sys)"
   ]
  },
  {
   "cell_type": "code",
   "execution_count": 30,
   "id": "aa548164",
   "metadata": {
    "scrolled": true
   },
   "outputs": [
    {
     "data": {
      "text/plain": [
       "Windows                       1068\n",
       "No OS/Linux/Chrome/Android     147\n",
       "macOS                           21\n",
       "Name: OpSys, dtype: int64"
      ]
     },
     "execution_count": 30,
     "metadata": {},
     "output_type": "execute_result"
    }
   ],
   "source": [
    "df_4['OpSys'].value_counts()"
   ]
  },
  {
   "cell_type": "code",
   "execution_count": 31,
   "id": "466f30b2",
   "metadata": {},
   "outputs": [
    {
     "data": {
      "text/plain": [
       "<AxesSubplot:xlabel='OpSys', ylabel='Price'>"
      ]
     },
     "execution_count": 31,
     "metadata": {},
     "output_type": "execute_result"
    },
    {
     "data": {
      "image/png": "[encoded data removed]",
      "text/plain": [
       "<Figure size 432x288 with 1 Axes>"
      ]
     },
     "metadata": {
      "needs_background": "light"
     },
     "output_type": "display_data"
    }
   ],
   "source": [
    "sns.barplot(x=df_4['OpSys'],y=df_4['Price'])"
   ]
  },
  {
   "cell_type": "markdown",
   "id": "093172d9",
   "metadata": {},
   "source": [
    "#### Checkpoint 4:"
   ]
  },
  {
   "cell_type": "code",
   "execution_count": 32,
   "id": "feac7c6f",
   "metadata": {},
   "outputs": [],
   "source": [
    "df_5 = df_4.copy()"
   ]
  },
  {
   "cell_type": "markdown",
   "id": "4d8f1ea5",
   "metadata": {},
   "source": [
    "### 8) 'TypeName' Column:"
   ]
  },
  {
   "cell_type": "code",
   "execution_count": 33,
   "id": "2e8579af",
   "metadata": {},
   "outputs": [
    {
     "data": {
      "text/plain": [
       "<AxesSubplot:>"
      ]
     },
     "execution_count": 33,
     "metadata": {},
     "output_type": "execute_result"
    },
    {
     "data": {
      "image/png": "[encoded data removed]",
      "text/plain": [
       "<Figure size 432x288 with 1 Axes>"
      ]
     },
     "metadata": {
      "needs_background": "light"
     },
     "output_type": "display_data"
    }
   ],
   "source": [
    "df_5['TypeName'].value_counts().plot(kind='bar')"
   ]
  },
  {
   "cell_type": "code",
   "execution_count": 34,
   "id": "3b5182fc",
   "metadata": {},
   "outputs": [
    {
     "data": {
      "image/png": "[encoded data removed]",
      "text/plain": [
       "<Figure size 432x288 with 1 Axes>"
      ]
     },
     "metadata": {
      "needs_background": "light"
     },
     "output_type": "display_data"
    }
   ],
   "source": [
    "sns.barplot(x=df_5['TypeName'],y=df_5['Price'])\n",
    "plt.xticks(rotation='vertical')\n",
    "plt.show()"
   ]
  },
  {
   "cell_type": "markdown",
   "id": "c91afe6c",
   "metadata": {},
   "source": [
    "### 9) 'Weight' column:"
   ]
  },
  {
   "cell_type": "code",
   "execution_count": 35,
   "id": "f83cecfc",
   "metadata": {},
   "outputs": [],
   "source": [
    "df_5['Weight'] = df_5['Weight'].str.replace('kg','')"
   ]
  },
  {
   "cell_type": "code",
   "execution_count": 36,
   "id": "0be21dda",
   "metadata": {},
   "outputs": [],
   "source": [
    "df_5['Weight'] = df_5['Weight'].astype(float)"
   ]
  },
  {
   "cell_type": "code",
   "execution_count": 37,
   "id": "c6dd475b",
   "metadata": {},
   "outputs": [
    {
     "name": "stdout",
     "output_type": "stream",
     "text": [
      "<class 'pandas.core.frame.DataFrame'>\n",
      "Int64Index: 1236 entries, 0 to 1273\n",
      "Data columns (total 11 columns):\n",
      " #   Column            Non-Null Count  Dtype  \n",
      "---  ------            --------------  -----  \n",
      " 0   Company           1236 non-null   object \n",
      " 1   TypeName          1236 non-null   object \n",
      " 2   Inches            1236 non-null   float64\n",
      " 3   ScreenResolution  1236 non-null   object \n",
      " 4   Cpu               1236 non-null   object \n",
      " 5   Ram               1236 non-null   int32  \n",
      " 6   Memory            1236 non-null   object \n",
      " 7   Gpu               1236 non-null   object \n",
      " 8   OpSys             1236 non-null   object \n",
      " 9   Weight            1236 non-null   float64\n",
      " 10  Price             1236 non-null   float64\n",
      "dtypes: float64(3), int32(1), object(7)\n",
      "memory usage: 151.0+ KB\n"
     ]
    }
   ],
   "source": [
    "df_5.info()"
   ]
  },
  {
   "cell_type": "markdown",
   "id": "7ab6257f",
   "metadata": {},
   "source": [
    "### 10) 'ScreenResolution' column:"
   ]
  },
  {
   "cell_type": "code",
   "execution_count": 38,
   "id": "4ca21755",
   "metadata": {},
   "outputs": [
    {
     "data": {
      "text/plain": [
       "Full HD 1920x1080                                499\n",
       "1366x768                                         258\n",
       "IPS Panel Full HD 1920x1080                      215\n",
       "IPS Panel Full HD / Touchscreen 1920x1080         48\n",
       "Full HD / Touchscreen 1920x1080                   47\n",
       "1600x900                                          23\n",
       "Touchscreen 1366x768                              16\n",
       "Quad HD+ / Touchscreen 3200x1800                  15\n",
       "IPS Panel 4K Ultra HD / Touchscreen 3840x2160     11\n",
       "IPS Panel 4K Ultra HD 3840x2160                    9\n",
       "4K Ultra HD / Touchscreen 3840x2160                8\n",
       "Touchscreen 2560x1440                              7\n",
       "IPS Panel 1366x768                                 7\n",
       "IPS Panel Retina Display 2304x1440                 6\n",
       "IPS Panel Retina Display 2560x1600                 6\n",
       "4K Ultra HD 3840x2160                              6\n",
       "Touchscreen 2256x1504                              6\n",
       "IPS Panel Touchscreen 2560x1440                    5\n",
       "1440x900                                           4\n",
       "IPS Panel 2560x1440                                4\n",
       "IPS Panel Retina Display 2880x1800                 4\n",
       "IPS Panel Quad HD+ / Touchscreen 3200x1800         4\n",
       "IPS Panel Touchscreen 1920x1200                    4\n",
       "IPS Panel Touchscreen 1366x768                     3\n",
       "IPS Panel Quad HD+ 2560x1440                       3\n",
       "Quad HD+ 3200x1800                                 3\n",
       "IPS Panel Touchscreen / 4K Ultra HD 3840x2160      2\n",
       "2560x1440                                          2\n",
       "IPS Panel Quad HD+ 3200x1800                       2\n",
       "1920x1080                                          2\n",
       "Touchscreen / Full HD 1920x1080                    1\n",
       "IPS Panel Full HD 2560x1440                        1\n",
       "IPS Panel Touchscreen 2400x1600                    1\n",
       "Touchscreen / 4K Ultra HD 3840x2160                1\n",
       "IPS Panel Full HD 1920x1200                        1\n",
       "Touchscreen / Quad HD+ 3200x1800                   1\n",
       "IPS Panel Full HD 1366x768                         1\n",
       "Name: ScreenResolution, dtype: int64"
      ]
     },
     "execution_count": 38,
     "metadata": {},
     "output_type": "execute_result"
    }
   ],
   "source": [
    "df_5['ScreenResolution'].value_counts()"
   ]
  },
  {
   "cell_type": "code",
   "execution_count": 39,
   "id": "09a0fe4a",
   "metadata": {},
   "outputs": [],
   "source": [
    "df_5['Touchscreen'] = df_5['ScreenResolution'].apply(lambda x:1 if \"Touchscreen\" in x else 0)"
   ]
  },
  {
   "cell_type": "code",
   "execution_count": 40,
   "id": "303e2398",
   "metadata": {},
   "outputs": [
    {
     "data": {
      "text/plain": [
       "0    1056\n",
       "1     180\n",
       "Name: Touchscreen, dtype: int64"
      ]
     },
     "execution_count": 40,
     "metadata": {},
     "output_type": "execute_result"
    }
   ],
   "source": [
    "df_5['Touchscreen'].value_counts()"
   ]
  },
  {
   "cell_type": "code",
   "execution_count": 41,
   "id": "59a2e805",
   "metadata": {},
   "outputs": [
    {
     "data": {
      "text/plain": [
       "<AxesSubplot:xlabel='Touchscreen', ylabel='Price'>"
      ]
     },
     "execution_count": 41,
     "metadata": {},
     "output_type": "execute_result"
    },
    {
     "data": {
      "image/png": "[encoded data removed]",
      "text/plain": [
       "<Figure size 432x288 with 1 Axes>"
      ]
     },
     "metadata": {
      "needs_background": "light"
     },
     "output_type": "display_data"
    }
   ],
   "source": [
    "sns.barplot(x=df_5['Touchscreen'],y=df_5['Price'])"
   ]
  },
  {
   "cell_type": "code",
   "execution_count": 42,
   "id": "59a867b4",
   "metadata": {},
   "outputs": [],
   "source": [
    "df_5['IPS_Panel'] = df_5['ScreenResolution'].apply(lambda x:1 if \"IPS Panel\" in x else 0)"
   ]
  },
  {
   "cell_type": "code",
   "execution_count": 43,
   "id": "97293d67",
   "metadata": {},
   "outputs": [
    {
     "data": {
      "text/plain": [
       "0    899\n",
       "1    337\n",
       "Name: IPS_Panel, dtype: int64"
      ]
     },
     "execution_count": 43,
     "metadata": {},
     "output_type": "execute_result"
    }
   ],
   "source": [
    "df_5['IPS_Panel'].value_counts()"
   ]
  },
  {
   "cell_type": "code",
   "execution_count": 44,
   "id": "9a919198",
   "metadata": {},
   "outputs": [
    {
     "data": {
      "text/plain": [
       "<AxesSubplot:xlabel='IPS_Panel', ylabel='Price'>"
      ]
     },
     "execution_count": 44,
     "metadata": {},
     "output_type": "execute_result"
    },
    {
     "data": {
      "image/png": "[encoded data removed]",
      "text/plain": [
       "<Figure size 432x288 with 1 Axes>"
      ]
     },
     "metadata": {
      "needs_background": "light"
     },
     "output_type": "display_data"
    }
   ],
   "source": [
    "sns.barplot(x=df_5['IPS_Panel'],y=df_5['Price'])"
   ]
  },
  {
   "cell_type": "code",
   "execution_count": 45,
   "id": "30e73bb8",
   "metadata": {},
   "outputs": [],
   "source": [
    "new = df_5['ScreenResolution'].str.split('x',n=1,expand=True)"
   ]
  },
  {
   "cell_type": "code",
   "execution_count": 46,
   "id": "1803a10b",
   "metadata": {},
   "outputs": [],
   "source": [
    "df_5['X_Resolution'] = new[0]\n",
    "df_5['Y_Resolution'] = new[1]"
   ]
  },
  {
   "cell_type": "code",
   "execution_count": 47,
   "id": "5d1821a0",
   "metadata": {},
   "outputs": [],
   "source": [
    "df_5['X_Resolution'] = df_5['X_Resolution'].str.replace(',','').str.findall(r'(\\d+\\.?\\d+)').apply(lambda x:x[0])"
   ]
  },
  {
   "cell_type": "code",
   "execution_count": 48,
   "id": "3ac41c81",
   "metadata": {},
   "outputs": [
    {
     "data": {
      "text/html": [
       "<div>\n",
       "<style scoped>\n",
       "    .dataframe tbody tr th:only-of-type {\n",
       "        vertical-align: middle;\n",
       "    }\n",
       "\n",
       "    .dataframe tbody tr th {\n",
       "        vertical-align: top;\n",
       "    }\n",
       "\n",
       "    .dataframe thead th {\n",
       "        text-align: right;\n",
       "    }\n",
       "</style>\n",
       "<table border=\"1\" class=\"dataframe\">\n",
       "  <thead>\n",
       "    <tr style=\"text-align: right;\">\n",
       "      <th></th>\n",
       "      <th>Company</th>\n",
       "      <th>TypeName</th>\n",
       "      <th>Inches</th>\n",
       "      <th>ScreenResolution</th>\n",
       "      <th>Cpu</th>\n",
       "      <th>Ram</th>\n",
       "      <th>Memory</th>\n",
       "      <th>Gpu</th>\n",
       "      <th>OpSys</th>\n",
       "      <th>Weight</th>\n",
       "      <th>Price</th>\n",
       "      <th>Touchscreen</th>\n",
       "      <th>IPS_Panel</th>\n",
       "      <th>X_Resolution</th>\n",
       "      <th>Y_Resolution</th>\n",
       "    </tr>\n",
       "  </thead>\n",
       "  <tbody>\n",
       "    <tr>\n",
       "      <th>0</th>\n",
       "      <td>Apple</td>\n",
       "      <td>Ultrabook</td>\n",
       "      <td>13.3</td>\n",
       "      <td>IPS Panel Retina Display 2560x1600</td>\n",
       "      <td>Intel Core i5 2.3GHz</td>\n",
       "      <td>8</td>\n",
       "      <td>128GB SSD</td>\n",
       "      <td>Intel Iris Plus Graphics 640</td>\n",
       "      <td>macOS</td>\n",
       "      <td>1.37</td>\n",
       "      <td>71378.6832</td>\n",
       "      <td>0</td>\n",
       "      <td>1</td>\n",
       "      <td>2560</td>\n",
       "      <td>1600</td>\n",
       "    </tr>\n",
       "    <tr>\n",
       "      <th>1</th>\n",
       "      <td>Apple</td>\n",
       "      <td>Ultrabook</td>\n",
       "      <td>13.3</td>\n",
       "      <td>1440x900</td>\n",
       "      <td>Intel Core i5 1.8GHz</td>\n",
       "      <td>8</td>\n",
       "      <td>128GB Flash Storage</td>\n",
       "      <td>Intel HD Graphics 6000</td>\n",
       "      <td>macOS</td>\n",
       "      <td>1.34</td>\n",
       "      <td>47895.5232</td>\n",
       "      <td>0</td>\n",
       "      <td>0</td>\n",
       "      <td>1440</td>\n",
       "      <td>900</td>\n",
       "    </tr>\n",
       "  </tbody>\n",
       "</table>\n",
       "</div>"
      ],
      "text/plain": [
       "  Company   TypeName  Inches                    ScreenResolution  \\\n",
       "0   Apple  Ultrabook    13.3  IPS Panel Retina Display 2560x1600   \n",
       "1   Apple  Ultrabook    13.3                            1440x900   \n",
       "\n",
       "                    Cpu  Ram               Memory  \\\n",
       "0  Intel Core i5 2.3GHz    8            128GB SSD   \n",
       "1  Intel Core i5 1.8GHz    8  128GB Flash Storage   \n",
       "\n",
       "                            Gpu  OpSys  Weight       Price  Touchscreen  \\\n",
       "0  Intel Iris Plus Graphics 640  macOS    1.37  71378.6832            0   \n",
       "1        Intel HD Graphics 6000  macOS    1.34  47895.5232            0   \n",
       "\n",
       "   IPS_Panel X_Resolution Y_Resolution  \n",
       "0          1         2560         1600  \n",
       "1          0         1440          900  "
      ]
     },
     "execution_count": 48,
     "metadata": {},
     "output_type": "execute_result"
    }
   ],
   "source": [
    "df_5.head(2)"
   ]
  },
  {
   "cell_type": "code",
   "execution_count": 49,
   "id": "f6424549",
   "metadata": {},
   "outputs": [],
   "source": [
    "df_5['X_Resolution'] = df_5['X_Resolution'].astype('int32')\n",
    "df_5['Y_Resolution'] = df_5['Y_Resolution'].astype('int32')"
   ]
  },
  {
   "cell_type": "code",
   "execution_count": 50,
   "id": "94931ec9",
   "metadata": {},
   "outputs": [
    {
     "name": "stdout",
     "output_type": "stream",
     "text": [
      "<class 'pandas.core.frame.DataFrame'>\n",
      "Int64Index: 1236 entries, 0 to 1273\n",
      "Data columns (total 15 columns):\n",
      " #   Column            Non-Null Count  Dtype  \n",
      "---  ------            --------------  -----  \n",
      " 0   Company           1236 non-null   object \n",
      " 1   TypeName          1236 non-null   object \n",
      " 2   Inches            1236 non-null   float64\n",
      " 3   ScreenResolution  1236 non-null   object \n",
      " 4   Cpu               1236 non-null   object \n",
      " 5   Ram               1236 non-null   int32  \n",
      " 6   Memory            1236 non-null   object \n",
      " 7   Gpu               1236 non-null   object \n",
      " 8   OpSys             1236 non-null   object \n",
      " 9   Weight            1236 non-null   float64\n",
      " 10  Price             1236 non-null   float64\n",
      " 11  Touchscreen       1236 non-null   int64  \n",
      " 12  IPS_Panel         1236 non-null   int64  \n",
      " 13  X_Resolution      1236 non-null   int32  \n",
      " 14  Y_Resolution      1236 non-null   int32  \n",
      "dtypes: float64(3), int32(3), int64(2), object(7)\n",
      "memory usage: 180.0+ KB\n"
     ]
    }
   ],
   "source": [
    "df_5.info()"
   ]
  },
  {
   "cell_type": "markdown",
   "id": "c9e2c933",
   "metadata": {},
   "source": [
    "### 11) Creatiing new Column 'Res_per_Inches':"
   ]
  },
  {
   "cell_type": "code",
   "execution_count": 51,
   "id": "99bfcc08",
   "metadata": {},
   "outputs": [
    {
     "data": {
      "text/plain": [
       "Inches          0.014076\n",
       "Ram             0.718340\n",
       "Weight          0.146108\n",
       "Price           1.000000\n",
       "Touchscreen     0.192593\n",
       "IPS_Panel       0.254039\n",
       "X_Resolution    0.542556\n",
       "Y_Resolution    0.541652\n",
       "Name: Price, dtype: float64"
      ]
     },
     "execution_count": 51,
     "metadata": {},
     "output_type": "execute_result"
    }
   ],
   "source": [
    "df_5.corr()['Price']"
   ]
  },
  {
   "cell_type": "code",
   "execution_count": 52,
   "id": "38a0e674",
   "metadata": {},
   "outputs": [],
   "source": [
    "df_5[\"Res_Per_Inches\"] = (((df_5['X_Resolution']**2 + df_5['Y_Resolution']**2)**0.5)/df_5['Inches']).astype('float')"
   ]
  },
  {
   "cell_type": "code",
   "execution_count": 53,
   "id": "ad8adb66",
   "metadata": {},
   "outputs": [
    {
     "data": {
      "text/plain": [
       "Inches            0.014076\n",
       "Ram               0.718340\n",
       "Weight            0.146108\n",
       "Price             1.000000\n",
       "Touchscreen       0.192593\n",
       "IPS_Panel         0.254039\n",
       "X_Resolution      0.542556\n",
       "Y_Resolution      0.541652\n",
       "Res_Per_Inches    0.481486\n",
       "Name: Price, dtype: float64"
      ]
     },
     "execution_count": 53,
     "metadata": {},
     "output_type": "execute_result"
    }
   ],
   "source": [
    "df_5.corr()['Price']"
   ]
  },
  {
   "cell_type": "code",
   "execution_count": 54,
   "id": "f0410605",
   "metadata": {},
   "outputs": [
    {
     "data": {
      "image/png": "[encoded data removed]",
      "text/plain": [
       "<Figure size 432x288 with 1 Axes>"
      ]
     },
     "metadata": {
      "needs_background": "light"
     },
     "output_type": "display_data"
    }
   ],
   "source": [
    "sns.barplot(x=df_5['Res_Per_Inches'],y=df_5['Price'])\n",
    "plt.xticks(rotation='vertical')\n",
    "plt.show()"
   ]
  },
  {
   "cell_type": "code",
   "execution_count": 55,
   "id": "88db2c53",
   "metadata": {},
   "outputs": [],
   "source": [
    "df_5.drop(columns=['ScreenResolution','X_Resolution','Y_Resolution','Inches'],axis=1,inplace=True)"
   ]
  },
  {
   "cell_type": "code",
   "execution_count": 56,
   "id": "495d8337",
   "metadata": {},
   "outputs": [
    {
     "data": {
      "text/html": [
       "<div>\n",
       "<style scoped>\n",
       "    .dataframe tbody tr th:only-of-type {\n",
       "        vertical-align: middle;\n",
       "    }\n",
       "\n",
       "    .dataframe tbody tr th {\n",
       "        vertical-align: top;\n",
       "    }\n",
       "\n",
       "    .dataframe thead th {\n",
       "        text-align: right;\n",
       "    }\n",
       "</style>\n",
       "<table border=\"1\" class=\"dataframe\">\n",
       "  <thead>\n",
       "    <tr style=\"text-align: right;\">\n",
       "      <th></th>\n",
       "      <th>Company</th>\n",
       "      <th>TypeName</th>\n",
       "      <th>Cpu</th>\n",
       "      <th>Ram</th>\n",
       "      <th>Memory</th>\n",
       "      <th>Gpu</th>\n",
       "      <th>OpSys</th>\n",
       "      <th>Weight</th>\n",
       "      <th>Price</th>\n",
       "      <th>Touchscreen</th>\n",
       "      <th>IPS_Panel</th>\n",
       "      <th>Res_Per_Inches</th>\n",
       "    </tr>\n",
       "  </thead>\n",
       "  <tbody>\n",
       "    <tr>\n",
       "      <th>0</th>\n",
       "      <td>Apple</td>\n",
       "      <td>Ultrabook</td>\n",
       "      <td>Intel Core i5 2.3GHz</td>\n",
       "      <td>8</td>\n",
       "      <td>128GB SSD</td>\n",
       "      <td>Intel Iris Plus Graphics 640</td>\n",
       "      <td>macOS</td>\n",
       "      <td>1.37</td>\n",
       "      <td>71378.6832</td>\n",
       "      <td>0</td>\n",
       "      <td>1</td>\n",
       "      <td>226.983005</td>\n",
       "    </tr>\n",
       "    <tr>\n",
       "      <th>1</th>\n",
       "      <td>Apple</td>\n",
       "      <td>Ultrabook</td>\n",
       "      <td>Intel Core i5 1.8GHz</td>\n",
       "      <td>8</td>\n",
       "      <td>128GB Flash Storage</td>\n",
       "      <td>Intel HD Graphics 6000</td>\n",
       "      <td>macOS</td>\n",
       "      <td>1.34</td>\n",
       "      <td>47895.5232</td>\n",
       "      <td>0</td>\n",
       "      <td>0</td>\n",
       "      <td>127.677940</td>\n",
       "    </tr>\n",
       "  </tbody>\n",
       "</table>\n",
       "</div>"
      ],
      "text/plain": [
       "  Company   TypeName                   Cpu  Ram               Memory  \\\n",
       "0   Apple  Ultrabook  Intel Core i5 2.3GHz    8            128GB SSD   \n",
       "1   Apple  Ultrabook  Intel Core i5 1.8GHz    8  128GB Flash Storage   \n",
       "\n",
       "                            Gpu  OpSys  Weight       Price  Touchscreen  \\\n",
       "0  Intel Iris Plus Graphics 640  macOS    1.37  71378.6832            0   \n",
       "1        Intel HD Graphics 6000  macOS    1.34  47895.5232            0   \n",
       "\n",
       "   IPS_Panel  Res_Per_Inches  \n",
       "0          1      226.983005  \n",
       "1          0      127.677940  "
      ]
     },
     "execution_count": 56,
     "metadata": {},
     "output_type": "execute_result"
    }
   ],
   "source": [
    "df_5.head(2)"
   ]
  },
  {
   "cell_type": "markdown",
   "id": "534095b6",
   "metadata": {},
   "source": [
    "#### Checkpoint 5:"
   ]
  },
  {
   "cell_type": "code",
   "execution_count": 57,
   "id": "eb708880",
   "metadata": {},
   "outputs": [],
   "source": [
    "df_6 = df_5.copy()"
   ]
  },
  {
   "cell_type": "markdown",
   "id": "ccba79c3",
   "metadata": {},
   "source": [
    "### 12) 'Cpu' Column:"
   ]
  },
  {
   "cell_type": "code",
   "execution_count": 58,
   "id": "9787751a",
   "metadata": {},
   "outputs": [
    {
     "data": {
      "text/plain": [
       "Intel Core i5 7200U 2.5GHz              186\n",
       "Intel Core i7 7700HQ 2.8GHz             141\n",
       "Intel Core i7 7500U 2.7GHz              128\n",
       "Intel Core i7 8550U 1.8GHz               71\n",
       "Intel Core i5 8250U 1.6GHz               71\n",
       "                                       ... \n",
       "Intel Core M M7-6Y75 1.2GHz               1\n",
       "Intel Core i7 7500U 2.5GHz                1\n",
       "Intel Core i7 2.9GHz                      1\n",
       "Intel Pentium Dual Core 4405Y 1.5GHz      1\n",
       "Intel Core i5 7200U 2.70GHz               1\n",
       "Name: Cpu, Length: 113, dtype: int64"
      ]
     },
     "execution_count": 58,
     "metadata": {},
     "output_type": "execute_result"
    }
   ],
   "source": [
    "df_6['Cpu'].value_counts()"
   ]
  },
  {
   "cell_type": "code",
   "execution_count": 59,
   "id": "fa3fb830",
   "metadata": {},
   "outputs": [],
   "source": [
    "df_6['CpuName'] = df_6['Cpu'].apply(lambda x: \" \".join(x.split()[0:3]))"
   ]
  },
  {
   "cell_type": "code",
   "execution_count": 60,
   "id": "717bb972",
   "metadata": {},
   "outputs": [],
   "source": [
    "def fetch_processor(text):\n",
    "    if text == \"Intel Core i5\" or text == \"Intel Core i7\" or text == \"Intel Core i3\":\n",
    "        return text\n",
    "    else:\n",
    "        if text.split()[0] == \"Intel\":\n",
    "            return \"Other Intel Processor\"\n",
    "        else:\n",
    "            return \"AMD Processor\""
   ]
  },
  {
   "cell_type": "code",
   "execution_count": 61,
   "id": "a2b1d048",
   "metadata": {},
   "outputs": [],
   "source": [
    "df_6['Cpu_Brand'] = df_6['CpuName'].apply(fetch_processor)"
   ]
  },
  {
   "cell_type": "code",
   "execution_count": 62,
   "id": "6acf851c",
   "metadata": {},
   "outputs": [
    {
     "data": {
      "text/html": [
       "<div>\n",
       "<style scoped>\n",
       "    .dataframe tbody tr th:only-of-type {\n",
       "        vertical-align: middle;\n",
       "    }\n",
       "\n",
       "    .dataframe tbody tr th {\n",
       "        vertical-align: top;\n",
       "    }\n",
       "\n",
       "    .dataframe thead th {\n",
       "        text-align: right;\n",
       "    }\n",
       "</style>\n",
       "<table border=\"1\" class=\"dataframe\">\n",
       "  <thead>\n",
       "    <tr style=\"text-align: right;\">\n",
       "      <th></th>\n",
       "      <th>Company</th>\n",
       "      <th>TypeName</th>\n",
       "      <th>Cpu</th>\n",
       "      <th>Ram</th>\n",
       "      <th>Memory</th>\n",
       "      <th>Gpu</th>\n",
       "      <th>OpSys</th>\n",
       "      <th>Weight</th>\n",
       "      <th>Price</th>\n",
       "      <th>Touchscreen</th>\n",
       "      <th>IPS_Panel</th>\n",
       "      <th>Res_Per_Inches</th>\n",
       "      <th>CpuName</th>\n",
       "      <th>Cpu_Brand</th>\n",
       "    </tr>\n",
       "  </thead>\n",
       "  <tbody>\n",
       "    <tr>\n",
       "      <th>0</th>\n",
       "      <td>Apple</td>\n",
       "      <td>Ultrabook</td>\n",
       "      <td>Intel Core i5 2.3GHz</td>\n",
       "      <td>8</td>\n",
       "      <td>128GB SSD</td>\n",
       "      <td>Intel Iris Plus Graphics 640</td>\n",
       "      <td>macOS</td>\n",
       "      <td>1.37</td>\n",
       "      <td>71378.6832</td>\n",
       "      <td>0</td>\n",
       "      <td>1</td>\n",
       "      <td>226.983005</td>\n",
       "      <td>Intel Core i5</td>\n",
       "      <td>Intel Core i5</td>\n",
       "    </tr>\n",
       "    <tr>\n",
       "      <th>1</th>\n",
       "      <td>Apple</td>\n",
       "      <td>Ultrabook</td>\n",
       "      <td>Intel Core i5 1.8GHz</td>\n",
       "      <td>8</td>\n",
       "      <td>128GB Flash Storage</td>\n",
       "      <td>Intel HD Graphics 6000</td>\n",
       "      <td>macOS</td>\n",
       "      <td>1.34</td>\n",
       "      <td>47895.5232</td>\n",
       "      <td>0</td>\n",
       "      <td>0</td>\n",
       "      <td>127.677940</td>\n",
       "      <td>Intel Core i5</td>\n",
       "      <td>Intel Core i5</td>\n",
       "    </tr>\n",
       "  </tbody>\n",
       "</table>\n",
       "</div>"
      ],
      "text/plain": [
       "  Company   TypeName                   Cpu  Ram               Memory  \\\n",
       "0   Apple  Ultrabook  Intel Core i5 2.3GHz    8            128GB SSD   \n",
       "1   Apple  Ultrabook  Intel Core i5 1.8GHz    8  128GB Flash Storage   \n",
       "\n",
       "                            Gpu  OpSys  Weight       Price  Touchscreen  \\\n",
       "0  Intel Iris Plus Graphics 640  macOS    1.37  71378.6832            0   \n",
       "1        Intel HD Graphics 6000  macOS    1.34  47895.5232            0   \n",
       "\n",
       "   IPS_Panel  Res_Per_Inches        CpuName      Cpu_Brand  \n",
       "0          1      226.983005  Intel Core i5  Intel Core i5  \n",
       "1          0      127.677940  Intel Core i5  Intel Core i5  "
      ]
     },
     "execution_count": 62,
     "metadata": {},
     "output_type": "execute_result"
    }
   ],
   "source": [
    "df_6.head(2)"
   ]
  },
  {
   "cell_type": "code",
   "execution_count": 63,
   "id": "395f426f",
   "metadata": {},
   "outputs": [
    {
     "data": {
      "text/plain": [
       "Intel Core i7            495\n",
       "Intel Core i5            414\n",
       "Intel Core i3            134\n",
       "Other Intel Processor    132\n",
       "AMD Processor             61\n",
       "Name: Cpu_Brand, dtype: int64"
      ]
     },
     "execution_count": 63,
     "metadata": {},
     "output_type": "execute_result"
    }
   ],
   "source": [
    "df_6['Cpu_Brand'].value_counts()"
   ]
  },
  {
   "cell_type": "code",
   "execution_count": 64,
   "id": "a3cf9350",
   "metadata": {},
   "outputs": [
    {
     "data": {
      "text/plain": [
       "<AxesSubplot:xlabel='Cpu_Brand', ylabel='Price'>"
      ]
     },
     "execution_count": 64,
     "metadata": {},
     "output_type": "execute_result"
    },
    {
     "data": {
      "image/png": "[encoded data removed]",
      "text/plain": [
       "<Figure size 432x288 with 1 Axes>"
      ]
     },
     "metadata": {
      "needs_background": "light"
     },
     "output_type": "display_data"
    }
   ],
   "source": [
    "sns.barplot(x=df_6['Cpu_Brand'],y=df_6['Price'])"
   ]
  },
  {
   "cell_type": "code",
   "execution_count": 65,
   "id": "2ffb93c8",
   "metadata": {},
   "outputs": [],
   "source": [
    "df_6.drop(columns=['Cpu','CpuName'],axis=1,inplace=True)"
   ]
  },
  {
   "cell_type": "markdown",
   "id": "284ab435",
   "metadata": {},
   "source": [
    "#### Checkpoint 6:"
   ]
  },
  {
   "cell_type": "code",
   "execution_count": 66,
   "id": "61c77e2f",
   "metadata": {},
   "outputs": [],
   "source": [
    "df_7 = df_6.copy()"
   ]
  },
  {
   "cell_type": "markdown",
   "id": "bcc7aaab",
   "metadata": {},
   "source": [
    "### 13) 'Memory' column:"
   ]
  },
  {
   "cell_type": "code",
   "execution_count": 67,
   "id": "47114163",
   "metadata": {},
   "outputs": [
    {
     "data": {
      "text/plain": [
       "256GB SSD                        402\n",
       "1TB HDD                          214\n",
       "500GB HDD                        123\n",
       "512GB SSD                        106\n",
       "128GB SSD +  1TB HDD              94\n",
       "128GB SSD                         73\n",
       "256GB SSD +  1TB HDD              72\n",
       "32GB Flash Storage                32\n",
       "2TB HDD                           16\n",
       "512GB SSD +  1TB HDD              12\n",
       "256GB SSD +  2TB HDD              10\n",
       "64GB Flash Storage                10\n",
       "1TB SSD                            9\n",
       "256GB Flash Storage                8\n",
       "1.0TB Hybrid                       7\n",
       "16GB Flash Storage                 7\n",
       "32GB SSD                           6\n",
       "180GB SSD                          5\n",
       "128GB Flash Storage                4\n",
       "512GB SSD +  2TB HDD               3\n",
       "16GB SSD                           3\n",
       "128GB SSD +  2TB HDD               2\n",
       "256GB SSD +  256GB SSD             2\n",
       "256GB SSD +  500GB HDD             2\n",
       "512GB Flash Storage                2\n",
       "64GB SSD                           1\n",
       "1.0TB HDD                          1\n",
       "8GB SSD                            1\n",
       "32GB HDD                           1\n",
       "240GB SSD                          1\n",
       "512GB SSD +  256GB SSD             1\n",
       "64GB Flash Storage +  1TB HDD      1\n",
       "256GB SSD +  1.0TB Hybrid          1\n",
       "508GB Hybrid                       1\n",
       "512GB SSD +  512GB SSD             1\n",
       "128GB HDD                          1\n",
       "1TB HDD +  1TB HDD                 1\n",
       "Name: Memory, dtype: int64"
      ]
     },
     "execution_count": 67,
     "metadata": {},
     "output_type": "execute_result"
    }
   ],
   "source": [
    "df_7['Memory'].value_counts()"
   ]
  },
  {
   "cell_type": "code",
   "execution_count": 68,
   "id": "19be0dee",
   "metadata": {},
   "outputs": [],
   "source": [
    "df_7['Memory'] = df_7['Memory'].astype(str).replace('\\.0','',regex=True)\n",
    "df_7['Memory'] = df_7['Memory'].str.replace('GB','')\n",
    "df_7['Memory'] = df_7['Memory'].str.replace('TB','000')\n",
    "new = df_7['Memory'].str.split('+', n=1, expand=True)"
   ]
  },
  {
   "cell_type": "code",
   "execution_count": 69,
   "id": "de7a1699",
   "metadata": {},
   "outputs": [],
   "source": [
    "df_7['first'] = new[0]\n",
    "df_7['first'] = df_7['first'].str.strip()\n",
    "df_7['second'] = new[1]"
   ]
  },
  {
   "cell_type": "code",
   "execution_count": 70,
   "id": "98f90c8f",
   "metadata": {},
   "outputs": [],
   "source": [
    "df_7['Layer1HDD'] = df_7['first'].apply(lambda x:1 if \"HDD\" in x else 0)\n",
    "df_7['Layer1SSD'] = df_7['first'].apply(lambda x:1 if \"SSD\" in x else 0)\n",
    "df_7['Layer1Hybrid'] = df_7['first'].apply(lambda x:1 if \"Hybrid\" in x else 0)\n",
    "df_7['Layer1Flash_storage'] = df_7['first'].apply(lambda x:1 if \"Flash Storage\" in x else 0)"
   ]
  },
  {
   "cell_type": "code",
   "execution_count": 71,
   "id": "da0fe8f4",
   "metadata": {},
   "outputs": [],
   "source": [
    "df_7['first'] = df_7['first'].str.replace(r'\\D','')\n",
    "df_7['second'].fillna(\"0\",inplace=True)"
   ]
  },
  {
   "cell_type": "code",
   "execution_count": 72,
   "id": "676ab837",
   "metadata": {},
   "outputs": [],
   "source": [
    "df_7['Layer2HDD'] = df_7['second'].apply(lambda x:1 if \"HDD\" in x else 0)\n",
    "df_7['Layer2SSD'] = df_7['second'].apply(lambda x:1 if \"SSD\" in x else 0)\n",
    "df_7['Layer2Hybrid'] = df_7['second'].apply(lambda x:1 if \"Hybrid\" in x else 0)\n",
    "df_7['Layer2Flash_storage'] = df_7['second'].apply(lambda x:1 if \"Flash Storage\" in x else 0)"
   ]
  },
  {
   "cell_type": "code",
   "execution_count": 73,
   "id": "eea02c2b",
   "metadata": {},
   "outputs": [],
   "source": [
    "df_7['second'] = df_7['second'].str.replace(r'\\D','')"
   ]
  },
  {
   "cell_type": "code",
   "execution_count": 74,
   "id": "6137514c",
   "metadata": {},
   "outputs": [],
   "source": [
    "df_7['first'] = df_7['first'].astype(int)\n",
    "df_7['second'] = df_7['second'].astype(int)"
   ]
  },
  {
   "cell_type": "code",
   "execution_count": 75,
   "id": "67daa489",
   "metadata": {},
   "outputs": [],
   "source": [
    "df_7['HDD'] = (df_7['first']*df_7['Layer1HDD']+df_7['second']*df_7['Layer2HDD'])\n",
    "df_7['SSD'] = (df_7['first']*df_7['Layer1SSD']+df_7['second']*df_7['Layer2SSD'])\n",
    "df_7['Hybrid'] = (df_7['first']*df_7['Layer1Hybrid']+df_7['second']*df_7['Layer2Hybrid'])\n",
    "df_7['Flash_storage'] = (df_7['first']*df_7['Layer1Flash_storage']+df_7['second']*df_7['Layer2Flash_storage'])"
   ]
  },
  {
   "cell_type": "code",
   "execution_count": 76,
   "id": "b2d37413",
   "metadata": {},
   "outputs": [],
   "source": [
    "df_7.drop(columns=['first','second','Layer1HDD','Layer1SSD','Layer1Hybrid','Layer1Flash_storage','Layer2HDD','Layer2SSD','Layer2Hybrid','Layer2Flash_storage'],inplace=True)"
   ]
  },
  {
   "cell_type": "code",
   "execution_count": 77,
   "id": "f4835f6c",
   "metadata": {},
   "outputs": [],
   "source": [
    "df_7.drop(['Memory'],axis=1,inplace=True)"
   ]
  },
  {
   "cell_type": "code",
   "execution_count": 78,
   "id": "e09ba8a6",
   "metadata": {},
   "outputs": [
    {
     "data": {
      "text/html": [
       "<div>\n",
       "<style scoped>\n",
       "    .dataframe tbody tr th:only-of-type {\n",
       "        vertical-align: middle;\n",
       "    }\n",
       "\n",
       "    .dataframe tbody tr th {\n",
       "        vertical-align: top;\n",
       "    }\n",
       "\n",
       "    .dataframe thead th {\n",
       "        text-align: right;\n",
       "    }\n",
       "</style>\n",
       "<table border=\"1\" class=\"dataframe\">\n",
       "  <thead>\n",
       "    <tr style=\"text-align: right;\">\n",
       "      <th></th>\n",
       "      <th>Company</th>\n",
       "      <th>TypeName</th>\n",
       "      <th>Ram</th>\n",
       "      <th>Gpu</th>\n",
       "      <th>OpSys</th>\n",
       "      <th>Weight</th>\n",
       "      <th>Price</th>\n",
       "      <th>Touchscreen</th>\n",
       "      <th>IPS_Panel</th>\n",
       "      <th>Res_Per_Inches</th>\n",
       "      <th>Cpu_Brand</th>\n",
       "      <th>HDD</th>\n",
       "      <th>SSD</th>\n",
       "      <th>Hybrid</th>\n",
       "      <th>Flash_storage</th>\n",
       "    </tr>\n",
       "  </thead>\n",
       "  <tbody>\n",
       "    <tr>\n",
       "      <th>0</th>\n",
       "      <td>Apple</td>\n",
       "      <td>Ultrabook</td>\n",
       "      <td>8</td>\n",
       "      <td>Intel Iris Plus Graphics 640</td>\n",
       "      <td>macOS</td>\n",
       "      <td>1.37</td>\n",
       "      <td>71378.6832</td>\n",
       "      <td>0</td>\n",
       "      <td>1</td>\n",
       "      <td>226.983005</td>\n",
       "      <td>Intel Core i5</td>\n",
       "      <td>0</td>\n",
       "      <td>128</td>\n",
       "      <td>0</td>\n",
       "      <td>0</td>\n",
       "    </tr>\n",
       "    <tr>\n",
       "      <th>1</th>\n",
       "      <td>Apple</td>\n",
       "      <td>Ultrabook</td>\n",
       "      <td>8</td>\n",
       "      <td>Intel HD Graphics 6000</td>\n",
       "      <td>macOS</td>\n",
       "      <td>1.34</td>\n",
       "      <td>47895.5232</td>\n",
       "      <td>0</td>\n",
       "      <td>0</td>\n",
       "      <td>127.677940</td>\n",
       "      <td>Intel Core i5</td>\n",
       "      <td>0</td>\n",
       "      <td>0</td>\n",
       "      <td>0</td>\n",
       "      <td>128</td>\n",
       "    </tr>\n",
       "  </tbody>\n",
       "</table>\n",
       "</div>"
      ],
      "text/plain": [
       "  Company   TypeName  Ram                           Gpu  OpSys  Weight  \\\n",
       "0   Apple  Ultrabook    8  Intel Iris Plus Graphics 640  macOS    1.37   \n",
       "1   Apple  Ultrabook    8        Intel HD Graphics 6000  macOS    1.34   \n",
       "\n",
       "        Price  Touchscreen  IPS_Panel  Res_Per_Inches      Cpu_Brand  HDD  \\\n",
       "0  71378.6832            0          1      226.983005  Intel Core i5    0   \n",
       "1  47895.5232            0          0      127.677940  Intel Core i5    0   \n",
       "\n",
       "   SSD  Hybrid  Flash_storage  \n",
       "0  128       0              0  \n",
       "1    0       0            128  "
      ]
     },
     "execution_count": 78,
     "metadata": {},
     "output_type": "execute_result"
    }
   ],
   "source": [
    "df_7.head(2)"
   ]
  },
  {
   "cell_type": "code",
   "execution_count": 79,
   "id": "105d4d6d",
   "metadata": {},
   "outputs": [
    {
     "data": {
      "text/plain": [
       "<AxesSubplot:xlabel='HDD', ylabel='Price'>"
      ]
     },
     "execution_count": 79,
     "metadata": {},
     "output_type": "execute_result"
    },
    {
     "data": {
      "image/png": "[encoded data removed]",
      "text/plain": [
       "<Figure size 432x288 with 1 Axes>"
      ]
     },
     "metadata": {
      "needs_background": "light"
     },
     "output_type": "display_data"
    }
   ],
   "source": [
    "sns.barplot(x=df_7['HDD'],y=df_7['Price'])"
   ]
  },
  {
   "cell_type": "code",
   "execution_count": 80,
   "id": "370ec016",
   "metadata": {},
   "outputs": [
    {
     "data": {
      "text/plain": [
       "<AxesSubplot:xlabel='SSD', ylabel='Price'>"
      ]
     },
     "execution_count": 80,
     "metadata": {},
     "output_type": "execute_result"
    },
    {
     "data": {
      "image/png": "[encoded data removed]",
      "text/plain": [
       "<Figure size 432x288 with 1 Axes>"
      ]
     },
     "metadata": {
      "needs_background": "light"
     },
     "output_type": "display_data"
    }
   ],
   "source": [
    "sns.barplot(x=df_7['SSD'],y=df_7['Price'])"
   ]
  },
  {
   "cell_type": "code",
   "execution_count": 81,
   "id": "0dbdf587",
   "metadata": {},
   "outputs": [
    {
     "data": {
      "text/plain": [
       "<AxesSubplot:xlabel='Hybrid', ylabel='Price'>"
      ]
     },
     "execution_count": 81,
     "metadata": {},
     "output_type": "execute_result"
    },
    {
     "data": {
      "image/png": "[encoded data removed]",
      "text/plain": [
       "<Figure size 432x288 with 1 Axes>"
      ]
     },
     "metadata": {
      "needs_background": "light"
     },
     "output_type": "display_data"
    }
   ],
   "source": [
    "sns.barplot(x=df_7['Hybrid'],y=df_7['Price'])"
   ]
  },
  {
   "cell_type": "code",
   "execution_count": 82,
   "id": "0461d143",
   "metadata": {},
   "outputs": [
    {
     "data": {
      "text/plain": [
       "<AxesSubplot:xlabel='Flash_storage', ylabel='Price'>"
      ]
     },
     "execution_count": 82,
     "metadata": {},
     "output_type": "execute_result"
    },
    {
     "data": {
      "image/png": "[encoded data removed]",
      "text/plain": [
       "<Figure size 432x288 with 1 Axes>"
      ]
     },
     "metadata": {
      "needs_background": "light"
     },
     "output_type": "display_data"
    }
   ],
   "source": [
    "sns.barplot(x=df_7['Flash_storage'],y=df_7['Price'])"
   ]
  },
  {
   "cell_type": "markdown",
   "id": "ab94e62d",
   "metadata": {},
   "source": [
    "#### Checkpoint 7:"
   ]
  },
  {
   "cell_type": "code",
   "execution_count": 83,
   "id": "478afc55",
   "metadata": {},
   "outputs": [],
   "source": [
    "df_8 = df_7.copy()"
   ]
  },
  {
   "cell_type": "markdown",
   "id": "10738ed3",
   "metadata": {},
   "source": [
    "### 14) 'Gpu' Column:"
   ]
  },
  {
   "cell_type": "code",
   "execution_count": 84,
   "id": "01b4a8dc",
   "metadata": {},
   "outputs": [
    {
     "data": {
      "text/plain": [
       "Intel HD Graphics 620      271\n",
       "Intel HD Graphics 520      180\n",
       "Intel UHD Graphics 620      68\n",
       "Nvidia GeForce GTX 1050     66\n",
       "Nvidia GeForce GTX 1060     47\n",
       "                          ... \n",
       "AMD Radeon R9 M385           1\n",
       "Nvidia Quadro M520M          1\n",
       "AMD R17M-M1-70               1\n",
       "AMD Radeon R5 430            1\n",
       "Nvidia Quadro M2000M         1\n",
       "Name: Gpu, Length: 106, dtype: int64"
      ]
     },
     "execution_count": 84,
     "metadata": {},
     "output_type": "execute_result"
    }
   ],
   "source": [
    "df_8['Gpu'].value_counts()"
   ]
  },
  {
   "cell_type": "code",
   "execution_count": 85,
   "id": "6bd9b9bf",
   "metadata": {},
   "outputs": [],
   "source": [
    "df_8['Gpu'] = df_8['Gpu'].apply(lambda x: x.split()[0])"
   ]
  },
  {
   "cell_type": "code",
   "execution_count": 86,
   "id": "2ebb7944",
   "metadata": {},
   "outputs": [
    {
     "data": {
      "text/plain": [
       "Intel     684\n",
       "Nvidia    377\n",
       "AMD       174\n",
       "ARM         1\n",
       "Name: Gpu, dtype: int64"
      ]
     },
     "execution_count": 86,
     "metadata": {},
     "output_type": "execute_result"
    }
   ],
   "source": [
    "df_8['Gpu'].value_counts()"
   ]
  },
  {
   "cell_type": "code",
   "execution_count": 87,
   "id": "6504a6ff",
   "metadata": {},
   "outputs": [],
   "source": [
    "df_8 = df_8.drop(df_8[df_8.Gpu == \"ARM\"].index)"
   ]
  },
  {
   "cell_type": "code",
   "execution_count": 88,
   "id": "f1ffcc23",
   "metadata": {},
   "outputs": [
    {
     "data": {
      "text/plain": [
       "<AxesSubplot:xlabel='Gpu', ylabel='Price'>"
      ]
     },
     "execution_count": 88,
     "metadata": {},
     "output_type": "execute_result"
    },
    {
     "data": {
      "image/png": "[encoded data removed]",
      "text/plain": [
       "<Figure size 432x288 with 1 Axes>"
      ]
     },
     "metadata": {
      "needs_background": "light"
     },
     "output_type": "display_data"
    }
   ],
   "source": [
    "sns.barplot(x=df_8['Gpu'],y=df_8['Price'])"
   ]
  },
  {
   "cell_type": "code",
   "execution_count": 89,
   "id": "4378a0a7",
   "metadata": {
    "scrolled": true
   },
   "outputs": [
    {
     "data": {
      "text/html": [
       "<div>\n",
       "<style scoped>\n",
       "    .dataframe tbody tr th:only-of-type {\n",
       "        vertical-align: middle;\n",
       "    }\n",
       "\n",
       "    .dataframe tbody tr th {\n",
       "        vertical-align: top;\n",
       "    }\n",
       "\n",
       "    .dataframe thead th {\n",
       "        text-align: right;\n",
       "    }\n",
       "</style>\n",
       "<table border=\"1\" class=\"dataframe\">\n",
       "  <thead>\n",
       "    <tr style=\"text-align: right;\">\n",
       "      <th></th>\n",
       "      <th>Company</th>\n",
       "      <th>TypeName</th>\n",
       "      <th>Ram</th>\n",
       "      <th>Gpu</th>\n",
       "      <th>OpSys</th>\n",
       "      <th>Weight</th>\n",
       "      <th>Price</th>\n",
       "      <th>Touchscreen</th>\n",
       "      <th>IPS_Panel</th>\n",
       "      <th>Res_Per_Inches</th>\n",
       "      <th>Cpu_Brand</th>\n",
       "      <th>HDD</th>\n",
       "      <th>SSD</th>\n",
       "      <th>Hybrid</th>\n",
       "      <th>Flash_storage</th>\n",
       "    </tr>\n",
       "  </thead>\n",
       "  <tbody>\n",
       "    <tr>\n",
       "      <th>0</th>\n",
       "      <td>Apple</td>\n",
       "      <td>Ultrabook</td>\n",
       "      <td>8</td>\n",
       "      <td>Intel</td>\n",
       "      <td>macOS</td>\n",
       "      <td>1.37</td>\n",
       "      <td>71378.6832</td>\n",
       "      <td>0</td>\n",
       "      <td>1</td>\n",
       "      <td>226.983005</td>\n",
       "      <td>Intel Core i5</td>\n",
       "      <td>0</td>\n",
       "      <td>128</td>\n",
       "      <td>0</td>\n",
       "      <td>0</td>\n",
       "    </tr>\n",
       "    <tr>\n",
       "      <th>1</th>\n",
       "      <td>Apple</td>\n",
       "      <td>Ultrabook</td>\n",
       "      <td>8</td>\n",
       "      <td>Intel</td>\n",
       "      <td>macOS</td>\n",
       "      <td>1.34</td>\n",
       "      <td>47895.5232</td>\n",
       "      <td>0</td>\n",
       "      <td>0</td>\n",
       "      <td>127.677940</td>\n",
       "      <td>Intel Core i5</td>\n",
       "      <td>0</td>\n",
       "      <td>0</td>\n",
       "      <td>0</td>\n",
       "      <td>128</td>\n",
       "    </tr>\n",
       "  </tbody>\n",
       "</table>\n",
       "</div>"
      ],
      "text/plain": [
       "  Company   TypeName  Ram    Gpu  OpSys  Weight       Price  Touchscreen  \\\n",
       "0   Apple  Ultrabook    8  Intel  macOS    1.37  71378.6832            0   \n",
       "1   Apple  Ultrabook    8  Intel  macOS    1.34  47895.5232            0   \n",
       "\n",
       "   IPS_Panel  Res_Per_Inches      Cpu_Brand  HDD  SSD  Hybrid  Flash_storage  \n",
       "0          1      226.983005  Intel Core i5    0  128       0              0  \n",
       "1          0      127.677940  Intel Core i5    0    0       0            128  "
      ]
     },
     "execution_count": 89,
     "metadata": {},
     "output_type": "execute_result"
    }
   ],
   "source": [
    "df_8.head(2)"
   ]
  },
  {
   "cell_type": "code",
   "execution_count": 90,
   "id": "c1226fc0",
   "metadata": {
    "scrolled": true
   },
   "outputs": [
    {
     "data": {
      "text/plain": [
       "Ram               0.718203\n",
       "Weight            0.145461\n",
       "Price             1.000000\n",
       "Touchscreen       0.194487\n",
       "IPS_Panel         0.255306\n",
       "Res_Per_Inches    0.483640\n",
       "HDD              -0.095426\n",
       "SSD               0.634914\n",
       "Hybrid           -0.002051\n",
       "Flash_storage    -0.023152\n",
       "Name: Price, dtype: float64"
      ]
     },
     "execution_count": 90,
     "metadata": {},
     "output_type": "execute_result"
    }
   ],
   "source": [
    "df_8.corr()['Price']"
   ]
  },
  {
   "cell_type": "markdown",
   "id": "387a667f",
   "metadata": {},
   "source": [
    "- Hybrid and Flash_Storage has ver low correlation with Price so we can drop those columns"
   ]
  },
  {
   "cell_type": "code",
   "execution_count": 91,
   "id": "d3d5b19d",
   "metadata": {},
   "outputs": [],
   "source": [
    "df_8.drop(columns = ['Hybrid','Flash_storage'],axis=1,inplace=True)"
   ]
  },
  {
   "cell_type": "markdown",
   "id": "a097cccd",
   "metadata": {},
   "source": [
    "#### Checkpoint 8:"
   ]
  },
  {
   "cell_type": "code",
   "execution_count": 101,
   "id": "0c6a24b5",
   "metadata": {},
   "outputs": [],
   "source": [
    "df_9 = df_8.copy()"
   ]
  },
  {
   "cell_type": "code",
   "execution_count": 102,
   "id": "4483df24",
   "metadata": {},
   "outputs": [
    {
     "data": {
      "text/html": [
       "<div>\n",
       "<style scoped>\n",
       "    .dataframe tbody tr th:only-of-type {\n",
       "        vertical-align: middle;\n",
       "    }\n",
       "\n",
       "    .dataframe tbody tr th {\n",
       "        vertical-align: top;\n",
       "    }\n",
       "\n",
       "    .dataframe thead th {\n",
       "        text-align: right;\n",
       "    }\n",
       "</style>\n",
       "<table border=\"1\" class=\"dataframe\">\n",
       "  <thead>\n",
       "    <tr style=\"text-align: right;\">\n",
       "      <th></th>\n",
       "      <th>Company</th>\n",
       "      <th>TypeName</th>\n",
       "      <th>Ram</th>\n",
       "      <th>Gpu</th>\n",
       "      <th>OpSys</th>\n",
       "      <th>Weight</th>\n",
       "      <th>Price</th>\n",
       "      <th>Touchscreen</th>\n",
       "      <th>IPS_Panel</th>\n",
       "      <th>Res_Per_Inches</th>\n",
       "      <th>Cpu_Brand</th>\n",
       "      <th>HDD</th>\n",
       "      <th>SSD</th>\n",
       "    </tr>\n",
       "  </thead>\n",
       "  <tbody>\n",
       "    <tr>\n",
       "      <th>0</th>\n",
       "      <td>Apple</td>\n",
       "      <td>Ultrabook</td>\n",
       "      <td>8</td>\n",
       "      <td>Intel</td>\n",
       "      <td>macOS</td>\n",
       "      <td>1.37</td>\n",
       "      <td>71378.6832</td>\n",
       "      <td>0</td>\n",
       "      <td>1</td>\n",
       "      <td>226.983005</td>\n",
       "      <td>Intel Core i5</td>\n",
       "      <td>0</td>\n",
       "      <td>128</td>\n",
       "    </tr>\n",
       "    <tr>\n",
       "      <th>1</th>\n",
       "      <td>Apple</td>\n",
       "      <td>Ultrabook</td>\n",
       "      <td>8</td>\n",
       "      <td>Intel</td>\n",
       "      <td>macOS</td>\n",
       "      <td>1.34</td>\n",
       "      <td>47895.5232</td>\n",
       "      <td>0</td>\n",
       "      <td>0</td>\n",
       "      <td>127.677940</td>\n",
       "      <td>Intel Core i5</td>\n",
       "      <td>0</td>\n",
       "      <td>0</td>\n",
       "    </tr>\n",
       "  </tbody>\n",
       "</table>\n",
       "</div>"
      ],
      "text/plain": [
       "  Company   TypeName  Ram    Gpu  OpSys  Weight       Price  Touchscreen  \\\n",
       "0   Apple  Ultrabook    8  Intel  macOS    1.37  71378.6832            0   \n",
       "1   Apple  Ultrabook    8  Intel  macOS    1.34  47895.5232            0   \n",
       "\n",
       "   IPS_Panel  Res_Per_Inches      Cpu_Brand  HDD  SSD  \n",
       "0          1      226.983005  Intel Core i5    0  128  \n",
       "1          0      127.677940  Intel Core i5    0    0  "
      ]
     },
     "execution_count": 102,
     "metadata": {},
     "output_type": "execute_result"
    }
   ],
   "source": [
    "df_9.head(2)"
   ]
  },
  {
   "cell_type": "code",
   "execution_count": 103,
   "id": "c4c2e209",
   "metadata": {},
   "outputs": [],
   "source": [
    "df_9.to_csv('F:/Data Science/Data Sets/Laptop Price Prediction/cleaned_laptop_data.csv')"
   ]
  },
  {
   "cell_type": "code",
   "execution_count": 95,
   "id": "29e0c64b",
   "metadata": {},
   "outputs": [
    {
     "data": {
      "text/plain": [
       "<AxesSubplot:>"
      ]
     },
     "execution_count": 95,
     "metadata": {},
     "output_type": "execute_result"
    },
    {
     "data": {
      "image/png": "[encoded data removed]",
      "text/plain": [
       "<Figure size 432x288 with 2 Axes>"
      ]
     },
     "metadata": {
      "needs_background": "light"
     },
     "output_type": "display_data"
    }
   ],
   "source": [
    "sns.heatmap(df_9.corr())"
   ]
  }
 ],
 "metadata": {
  "kernelspec": {
   "display_name": "Python 3",
   "language": "python",
   "name": "python3"
  },
  "language_info": {
   "codemirror_mode": {
    "name": "ipython",
    "version": 3
   },
   "file_extension": ".py",
   "mimetype": "text/x-python",
   "name": "python",
   "nbconvert_exporter": "python",
   "pygments_lexer": "ipython3",
   "version": "3.8.5"
  }
 },
 "nbformat": 4,
 "nbformat_minor": 5
}
