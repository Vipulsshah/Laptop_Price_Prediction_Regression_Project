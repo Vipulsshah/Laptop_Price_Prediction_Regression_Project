{
 "cells": [
  {
   "cell_type": "markdown",
   "id": "61d2a4c4",
   "metadata": {},
   "source": [
    "## 1) Importing important libraries and dataset:"
   ]
  },
  {
   "cell_type": "code",
   "execution_count": 1,
   "id": "3a361ba0",
   "metadata": {},
   "outputs": [],
   "source": [
    "import pandas as pd\n",
    "import numpy as np\n",
    "import matplotlib.pyplot as plt\n",
    "import seaborn as sns\n",
    "sns.set()\n",
    "%matplotlib inline"
   ]
  },
  {
   "cell_type": "code",
   "execution_count": 24,
   "id": "00e661dd",
   "metadata": {},
   "outputs": [
    {
     "data": {
      "text/html": [
       "<div>\n",
       "<style scoped>\n",
       "    .dataframe tbody tr th:only-of-type {\n",
       "        vertical-align: middle;\n",
       "    }\n",
       "\n",
       "    .dataframe tbody tr th {\n",
       "        vertical-align: top;\n",
       "    }\n",
       "\n",
       "    .dataframe thead th {\n",
       "        text-align: right;\n",
       "    }\n",
       "</style>\n",
       "<table border=\"1\" class=\"dataframe\">\n",
       "  <thead>\n",
       "    <tr style=\"text-align: right;\">\n",
       "      <th></th>\n",
       "      <th>Unnamed: 0</th>\n",
       "      <th>Company</th>\n",
       "      <th>TypeName</th>\n",
       "      <th>Ram</th>\n",
       "      <th>Gpu</th>\n",
       "      <th>OpSys</th>\n",
       "      <th>Weight</th>\n",
       "      <th>Price</th>\n",
       "      <th>Touchscreen</th>\n",
       "      <th>IPS_Panel</th>\n",
       "      <th>Res_Per_Inches</th>\n",
       "      <th>Cpu_Brand</th>\n",
       "      <th>HDD</th>\n",
       "      <th>SSD</th>\n",
       "    </tr>\n",
       "  </thead>\n",
       "  <tbody>\n",
       "    <tr>\n",
       "      <th>0</th>\n",
       "      <td>0</td>\n",
       "      <td>Apple</td>\n",
       "      <td>Ultrabook</td>\n",
       "      <td>8</td>\n",
       "      <td>Intel</td>\n",
       "      <td>macOS</td>\n",
       "      <td>1.37</td>\n",
       "      <td>71378.6832</td>\n",
       "      <td>0</td>\n",
       "      <td>1</td>\n",
       "      <td>226.983005</td>\n",
       "      <td>Intel Core i5</td>\n",
       "      <td>0</td>\n",
       "      <td>128</td>\n",
       "    </tr>\n",
       "    <tr>\n",
       "      <th>1</th>\n",
       "      <td>1</td>\n",
       "      <td>Apple</td>\n",
       "      <td>Ultrabook</td>\n",
       "      <td>8</td>\n",
       "      <td>Intel</td>\n",
       "      <td>macOS</td>\n",
       "      <td>1.34</td>\n",
       "      <td>47895.5232</td>\n",
       "      <td>0</td>\n",
       "      <td>0</td>\n",
       "      <td>127.677940</td>\n",
       "      <td>Intel Core i5</td>\n",
       "      <td>0</td>\n",
       "      <td>0</td>\n",
       "    </tr>\n",
       "  </tbody>\n",
       "</table>\n",
       "</div>"
      ],
      "text/plain": [
       "   Unnamed: 0 Company   TypeName  Ram    Gpu  OpSys  Weight       Price  \\\n",
       "0           0   Apple  Ultrabook    8  Intel  macOS    1.37  71378.6832   \n",
       "1           1   Apple  Ultrabook    8  Intel  macOS    1.34  47895.5232   \n",
       "\n",
       "   Touchscreen  IPS_Panel  Res_Per_Inches      Cpu_Brand  HDD  SSD  \n",
       "0            0          1      226.983005  Intel Core i5    0  128  \n",
       "1            0          0      127.677940  Intel Core i5    0    0  "
      ]
     },
     "execution_count": 24,
     "metadata": {},
     "output_type": "execute_result"
    }
   ],
   "source": [
    "df = pd.read_csv(\"F:/Data Science/Data Sets/Laptop Price Prediction/cleaned_laptop_data.csv\")\n",
    "df.head(2)"
   ]
  },
  {
   "cell_type": "code",
   "execution_count": 25,
   "id": "79db07e0",
   "metadata": {},
   "outputs": [],
   "source": [
    "df.drop(['Unnamed: 0'],axis=1,inplace=True)"
   ]
  },
  {
   "cell_type": "code",
   "execution_count": 26,
   "id": "9cd12ba2",
   "metadata": {},
   "outputs": [
    {
     "data": {
      "text/html": [
       "<div>\n",
       "<style scoped>\n",
       "    .dataframe tbody tr th:only-of-type {\n",
       "        vertical-align: middle;\n",
       "    }\n",
       "\n",
       "    .dataframe tbody tr th {\n",
       "        vertical-align: top;\n",
       "    }\n",
       "\n",
       "    .dataframe thead th {\n",
       "        text-align: right;\n",
       "    }\n",
       "</style>\n",
       "<table border=\"1\" class=\"dataframe\">\n",
       "  <thead>\n",
       "    <tr style=\"text-align: right;\">\n",
       "      <th></th>\n",
       "      <th>Company</th>\n",
       "      <th>TypeName</th>\n",
       "      <th>Ram</th>\n",
       "      <th>Gpu</th>\n",
       "      <th>OpSys</th>\n",
       "      <th>Weight</th>\n",
       "      <th>Price</th>\n",
       "      <th>Touchscreen</th>\n",
       "      <th>IPS_Panel</th>\n",
       "      <th>Res_Per_Inches</th>\n",
       "      <th>Cpu_Brand</th>\n",
       "      <th>HDD</th>\n",
       "      <th>SSD</th>\n",
       "    </tr>\n",
       "  </thead>\n",
       "  <tbody>\n",
       "    <tr>\n",
       "      <th>0</th>\n",
       "      <td>Apple</td>\n",
       "      <td>Ultrabook</td>\n",
       "      <td>8</td>\n",
       "      <td>Intel</td>\n",
       "      <td>macOS</td>\n",
       "      <td>1.37</td>\n",
       "      <td>71378.6832</td>\n",
       "      <td>0</td>\n",
       "      <td>1</td>\n",
       "      <td>226.983005</td>\n",
       "      <td>Intel Core i5</td>\n",
       "      <td>0</td>\n",
       "      <td>128</td>\n",
       "    </tr>\n",
       "    <tr>\n",
       "      <th>1</th>\n",
       "      <td>Apple</td>\n",
       "      <td>Ultrabook</td>\n",
       "      <td>8</td>\n",
       "      <td>Intel</td>\n",
       "      <td>macOS</td>\n",
       "      <td>1.34</td>\n",
       "      <td>47895.5232</td>\n",
       "      <td>0</td>\n",
       "      <td>0</td>\n",
       "      <td>127.677940</td>\n",
       "      <td>Intel Core i5</td>\n",
       "      <td>0</td>\n",
       "      <td>0</td>\n",
       "    </tr>\n",
       "  </tbody>\n",
       "</table>\n",
       "</div>"
      ],
      "text/plain": [
       "  Company   TypeName  Ram    Gpu  OpSys  Weight       Price  Touchscreen  \\\n",
       "0   Apple  Ultrabook    8  Intel  macOS    1.37  71378.6832            0   \n",
       "1   Apple  Ultrabook    8  Intel  macOS    1.34  47895.5232            0   \n",
       "\n",
       "   IPS_Panel  Res_Per_Inches      Cpu_Brand  HDD  SSD  \n",
       "0          1      226.983005  Intel Core i5    0  128  \n",
       "1          0      127.677940  Intel Core i5    0    0  "
      ]
     },
     "execution_count": 26,
     "metadata": {},
     "output_type": "execute_result"
    }
   ],
   "source": [
    "df.head(2)"
   ]
  },
  {
   "cell_type": "code",
   "execution_count": 27,
   "id": "f90d8eec",
   "metadata": {},
   "outputs": [
    {
     "data": {
      "text/plain": [
       "(1235, 13)"
      ]
     },
     "execution_count": 27,
     "metadata": {},
     "output_type": "execute_result"
    }
   ],
   "source": [
    "df.shape"
   ]
  },
  {
   "cell_type": "markdown",
   "id": "469cbd61",
   "metadata": {},
   "source": [
    "## 2) Preprocessing:"
   ]
  },
  {
   "cell_type": "markdown",
   "id": "553d038b",
   "metadata": {},
   "source": [
    "### 1) Defining Features and Target:"
   ]
  },
  {
   "cell_type": "code",
   "execution_count": 28,
   "id": "f74cbc78",
   "metadata": {},
   "outputs": [
    {
     "name": "stderr",
     "output_type": "stream",
     "text": [
      "C:\\Users\\LENOVO\\anaconda3\\lib\\site-packages\\seaborn\\distributions.py:2551: FutureWarning: `distplot` is a deprecated function and will be removed in a future version. Please adapt your code to use either `displot` (a figure-level function with similar flexibility) or `histplot` (an axes-level function for histograms).\n",
      "  warnings.warn(msg, FutureWarning)\n"
     ]
    },
    {
     "data": {
      "text/plain": [
       "<AxesSubplot:xlabel='Price', ylabel='Density'>"
      ]
     },
     "execution_count": 28,
     "metadata": {},
     "output_type": "execute_result"
    },
    {
     "data": {
      "image/png": "[encoded data removed]",
      "text/plain": [
       "<Figure size 432x288 with 1 Axes>"
      ]
     },
     "metadata": {
      "needs_background": "light"
     },
     "output_type": "display_data"
    }
   ],
   "source": [
    "sns.distplot(np.log(df['Price']))"
   ]
  },
  {
   "cell_type": "code",
   "execution_count": 29,
   "id": "a9afef5c",
   "metadata": {},
   "outputs": [],
   "source": [
    "X = df.drop(columns=['Price'])\n",
    "y = np.log(df['Price'])"
   ]
  },
  {
   "cell_type": "markdown",
   "id": "58859cb2",
   "metadata": {},
   "source": [
    "### 2) Train_test_split:"
   ]
  },
  {
   "cell_type": "code",
   "execution_count": 30,
   "id": "7182b010",
   "metadata": {},
   "outputs": [],
   "source": [
    "from sklearn.model_selection import train_test_split\n",
    "X_train, X_test, y_train, y_test = train_test_split(X,y,test_size=0.2,random_state=42)"
   ]
  },
  {
   "cell_type": "markdown",
   "id": "2376b845",
   "metadata": {},
   "source": [
    "### 3) Handling categorical variables: OneHotEncoding"
   ]
  },
  {
   "cell_type": "code",
   "execution_count": 31,
   "id": "06e6d020",
   "metadata": {},
   "outputs": [],
   "source": [
    "from sklearn.compose import ColumnTransformer\n",
    "from sklearn.pipeline import Pipeline"
   ]
  },
  {
   "cell_type": "code",
   "execution_count": 32,
   "id": "8cd6d54f",
   "metadata": {},
   "outputs": [],
   "source": [
    "from sklearn.preprocessing import OneHotEncoder"
   ]
  },
  {
   "cell_type": "markdown",
   "id": "f72d9394",
   "metadata": {},
   "source": [
    "## 3) Model Building"
   ]
  },
  {
   "cell_type": "code",
   "execution_count": 55,
   "id": "6e50d18c",
   "metadata": {},
   "outputs": [],
   "source": [
    "from sklearn.linear_model import LinearRegression, Ridge, Lasso\n",
    "from sklearn.neighbors import KNeighborsRegressor\n",
    "from sklearn.tree import DecisionTreeRegressor\n",
    "from sklearn.ensemble import RandomForestRegressor, GradientBoostingRegressor, AdaBoostRegressor, ExtraTreesRegressor\n",
    "from sklearn.svm import SVR\n",
    "from xgboost import XGBRegressor"
   ]
  },
  {
   "cell_type": "code",
   "execution_count": 34,
   "id": "3313880f",
   "metadata": {},
   "outputs": [
    {
     "data": {
      "text/html": [
       "<div>\n",
       "<style scoped>\n",
       "    .dataframe tbody tr th:only-of-type {\n",
       "        vertical-align: middle;\n",
       "    }\n",
       "\n",
       "    .dataframe tbody tr th {\n",
       "        vertical-align: top;\n",
       "    }\n",
       "\n",
       "    .dataframe thead th {\n",
       "        text-align: right;\n",
       "    }\n",
       "</style>\n",
       "<table border=\"1\" class=\"dataframe\">\n",
       "  <thead>\n",
       "    <tr style=\"text-align: right;\">\n",
       "      <th></th>\n",
       "      <th>Company</th>\n",
       "      <th>TypeName</th>\n",
       "      <th>Ram</th>\n",
       "      <th>Gpu</th>\n",
       "      <th>OpSys</th>\n",
       "      <th>Weight</th>\n",
       "      <th>Touchscreen</th>\n",
       "      <th>IPS_Panel</th>\n",
       "      <th>Res_Per_Inches</th>\n",
       "      <th>Cpu_Brand</th>\n",
       "      <th>HDD</th>\n",
       "      <th>SSD</th>\n",
       "    </tr>\n",
       "  </thead>\n",
       "  <tbody>\n",
       "    <tr>\n",
       "      <th>0</th>\n",
       "      <td>Apple</td>\n",
       "      <td>Ultrabook</td>\n",
       "      <td>8</td>\n",
       "      <td>Intel</td>\n",
       "      <td>macOS</td>\n",
       "      <td>1.37</td>\n",
       "      <td>0</td>\n",
       "      <td>1</td>\n",
       "      <td>226.983005</td>\n",
       "      <td>Intel Core i5</td>\n",
       "      <td>0</td>\n",
       "      <td>128</td>\n",
       "    </tr>\n",
       "  </tbody>\n",
       "</table>\n",
       "</div>"
      ],
      "text/plain": [
       "  Company   TypeName  Ram    Gpu  OpSys  Weight  Touchscreen  IPS_Panel  \\\n",
       "0   Apple  Ultrabook    8  Intel  macOS    1.37            0          1   \n",
       "\n",
       "   Res_Per_Inches      Cpu_Brand  HDD  SSD  \n",
       "0      226.983005  Intel Core i5    0  128  "
      ]
     },
     "execution_count": 34,
     "metadata": {},
     "output_type": "execute_result"
    }
   ],
   "source": [
    "X.head(1)"
   ]
  },
  {
   "cell_type": "markdown",
   "id": "fb16e5f7",
   "metadata": {},
   "source": [
    "### 1) Linear Regression:"
   ]
  },
  {
   "cell_type": "code",
   "execution_count": 39,
   "id": "2cc4da05",
   "metadata": {},
   "outputs": [],
   "source": [
    "step1 = ColumnTransformer(transformers = [\n",
    "    ('col_tnf',OneHotEncoder(sparse=False,drop='first'),[0,1,3,4,9])\n",
    "],remainder='passthrough')"
   ]
  },
  {
   "cell_type": "code",
   "execution_count": 40,
   "id": "e9e0b71a",
   "metadata": {},
   "outputs": [],
   "source": [
    "step2 = LinearRegression()"
   ]
  },
  {
   "cell_type": "code",
   "execution_count": 41,
   "id": "84acfc0f",
   "metadata": {},
   "outputs": [],
   "source": [
    "pipe = Pipeline([\n",
    "    ('step1',step1),\n",
    "    ('step2',step2)\n",
    "])"
   ]
  },
  {
   "cell_type": "code",
   "execution_count": 42,
   "id": "9796b9b8",
   "metadata": {},
   "outputs": [
    {
     "data": {
      "text/plain": [
       "Pipeline(steps=[('step1',\n",
       "                 ColumnTransformer(remainder='passthrough',\n",
       "                                   transformers=[('col_tnf',\n",
       "                                                  OneHotEncoder(drop='first',\n",
       "                                                                sparse=False),\n",
       "                                                  [0, 1, 3, 4, 9])])),\n",
       "                ('step2', LinearRegression())])"
      ]
     },
     "execution_count": 42,
     "metadata": {},
     "output_type": "execute_result"
    }
   ],
   "source": [
    "pipe.fit(X_train,y_train)"
   ]
  },
  {
   "cell_type": "code",
   "execution_count": 43,
   "id": "6224fdb2",
   "metadata": {},
   "outputs": [],
   "source": [
    "from sklearn.metrics import r2_score, mean_absolute_error"
   ]
  },
  {
   "cell_type": "code",
   "execution_count": 44,
   "id": "c4024ba7",
   "metadata": {},
   "outputs": [
    {
     "name": "stdout",
     "output_type": "stream",
     "text": [
      "R2 Score 0.8179369608860386\n",
      "MAE 0.19966293200887247\n"
     ]
    }
   ],
   "source": [
    "y_pred = pipe.predict(X_test)\n",
    "print('R2 Score',r2_score(y_test,y_pred))\n",
    "print('MAE',mean_absolute_error(y_test,y_pred))"
   ]
  },
  {
   "cell_type": "code",
   "execution_count": 45,
   "id": "1f669961",
   "metadata": {},
   "outputs": [
    {
     "data": {
      "text/plain": [
       "1.2209142947560994"
      ]
     },
     "execution_count": 45,
     "metadata": {},
     "output_type": "execute_result"
    }
   ],
   "source": [
    "np.exp(0.1996)"
   ]
  },
  {
   "cell_type": "markdown",
   "id": "19818b0e",
   "metadata": {},
   "source": [
    "### 2) Ridge Regression:"
   ]
  },
  {
   "cell_type": "code",
   "execution_count": 46,
   "id": "ae5fbe97",
   "metadata": {},
   "outputs": [
    {
     "name": "stdout",
     "output_type": "stream",
     "text": [
      "R2 Score 0.818657976678419\n",
      "MAE 0.20279176373641186\n"
     ]
    }
   ],
   "source": [
    "step1 = ColumnTransformer(transformers = [\n",
    "    ('col_tnf',OneHotEncoder(sparse=False,drop='first'),[0,1,3,4,9])\n",
    "],remainder='passthrough')\n",
    "\n",
    "step2 = Ridge(alpha=10)\n",
    "\n",
    "pipe_2 = Pipeline([\n",
    "    ('step1',step1),\n",
    "    ('step2',step2)\n",
    "])\n",
    "\n",
    "pipe_2.fit(X_train,y_train)\n",
    "\n",
    "y_pred_2 = pipe_2.predict(X_test)\n",
    "print('R2 Score',r2_score(y_test,y_pred_2))\n",
    "print('MAE',mean_absolute_error(y_test,y_pred_2))"
   ]
  },
  {
   "cell_type": "markdown",
   "id": "48b7bbed",
   "metadata": {},
   "source": [
    "### 3) Lasso regression:"
   ]
  },
  {
   "cell_type": "code",
   "execution_count": 47,
   "id": "fcdc5d84",
   "metadata": {},
   "outputs": [
    {
     "name": "stdout",
     "output_type": "stream",
     "text": [
      "R2 Score 0.8187749987579392\n",
      "MAE 0.20171291188795706\n"
     ]
    }
   ],
   "source": [
    "step1 = ColumnTransformer(transformers = [\n",
    "    ('col_tnf',OneHotEncoder(sparse=False,drop='first'),[0,1,3,4,9])\n",
    "],remainder='passthrough')\n",
    "\n",
    "step2 = Lasso(alpha=0.001)\n",
    "\n",
    "pipe_3 = Pipeline([\n",
    "    ('step1',step1),\n",
    "    ('step2',step2)\n",
    "])\n",
    "\n",
    "pipe_3.fit(X_train,y_train)\n",
    "\n",
    "y_pred_3 = pipe_3.predict(X_test)\n",
    "print('R2 Score',r2_score(y_test,y_pred_3))\n",
    "print('MAE',mean_absolute_error(y_test,y_pred_3))"
   ]
  },
  {
   "cell_type": "markdown",
   "id": "a1514e83",
   "metadata": {},
   "source": [
    "### 4) KNN "
   ]
  },
  {
   "cell_type": "code",
   "execution_count": 48,
   "id": "f09a5ecb",
   "metadata": {},
   "outputs": [
    {
     "name": "stdout",
     "output_type": "stream",
     "text": [
      "R2 Score 0.7416487190232808\n",
      "MAE 0.23118189173535592\n"
     ]
    }
   ],
   "source": [
    "step1 = ColumnTransformer(transformers = [\n",
    "    ('col_tnf',OneHotEncoder(sparse=False,drop='first'),[0,1,3,4,9])\n",
    "],remainder='passthrough')\n",
    "\n",
    "step2 = KNeighborsRegressor(n_neighbors=3)\n",
    "\n",
    "pipe_4 = Pipeline([\n",
    "    ('step1',step1),\n",
    "    ('step2',step2)\n",
    "])\n",
    "\n",
    "pipe_4.fit(X_train,y_train)\n",
    "\n",
    "y_pred_4 = pipe_4.predict(X_test)\n",
    "print('R2 Score',r2_score(y_test,y_pred_4))\n",
    "print('MAE',mean_absolute_error(y_test,y_pred_4))"
   ]
  },
  {
   "cell_type": "markdown",
   "id": "61f4f8de",
   "metadata": {},
   "source": [
    "### 5) Decision Tree:"
   ]
  },
  {
   "cell_type": "code",
   "execution_count": 49,
   "id": "32bb7b20",
   "metadata": {},
   "outputs": [
    {
     "name": "stdout",
     "output_type": "stream",
     "text": [
      "R2 Score 0.8153357374605348\n",
      "MAE 0.203453336015635\n"
     ]
    }
   ],
   "source": [
    "step1 = ColumnTransformer(transformers = [\n",
    "    ('col_tnf',OneHotEncoder(sparse=False,drop='first'),[0,1,3,4,9])\n",
    "],remainder='passthrough')\n",
    "\n",
    "step2 = DecisionTreeRegressor(max_depth=8)\n",
    "\n",
    "pipe_5 = Pipeline([\n",
    "    ('step1',step1),\n",
    "    ('step2',step2)\n",
    "])\n",
    "\n",
    "pipe_5.fit(X_train,y_train)\n",
    "\n",
    "y_pred_5 = pipe_5.predict(X_test)\n",
    "print('R2 Score',r2_score(y_test,y_pred_5))\n",
    "print('MAE',mean_absolute_error(y_test,y_pred_5))"
   ]
  },
  {
   "cell_type": "markdown",
   "id": "ae1b6de0",
   "metadata": {},
   "source": [
    "### 6) SVM:"
   ]
  },
  {
   "cell_type": "code",
   "execution_count": 52,
   "id": "2bb037ed",
   "metadata": {},
   "outputs": [
    {
     "name": "stdout",
     "output_type": "stream",
     "text": [
      "R2 Score 0.8307046762066619\n",
      "MAE 0.189333118341285\n"
     ]
    }
   ],
   "source": [
    "step1 = ColumnTransformer(transformers = [\n",
    "    ('col_tnf',OneHotEncoder(sparse=False,drop='first'),[0,1,3,4,9])\n",
    "],remainder='passthrough')\n",
    "\n",
    "step2 = SVR(kernel='rbf',C=10000,epsilon=0.1)\n",
    "\n",
    "pipe_6 = Pipeline([\n",
    "    ('step1',step1),\n",
    "    ('step2',step2)\n",
    "])\n",
    "\n",
    "pipe_6.fit(X_train,y_train)\n",
    "\n",
    "y_pred_6 = pipe_6.predict(X_test)\n",
    "print('R2 Score',r2_score(y_test,y_pred_6))\n",
    "print('MAE',mean_absolute_error(y_test,y_pred_6))"
   ]
  },
  {
   "cell_type": "markdown",
   "id": "d90352ff",
   "metadata": {},
   "source": [
    "### 7) Random Forest:"
   ]
  },
  {
   "cell_type": "code",
   "execution_count": 53,
   "id": "21456a7a",
   "metadata": {},
   "outputs": [
    {
     "name": "stdout",
     "output_type": "stream",
     "text": [
      "R2 Score 0.8539710915382894\n",
      "MAE 0.17550458568048258\n"
     ]
    }
   ],
   "source": [
    "step1 = ColumnTransformer(transformers = [\n",
    "    ('col_tnf',OneHotEncoder(sparse=False,drop='first'),[0,1,3,4,9])\n",
    "],remainder='passthrough')\n",
    "\n",
    "step2 = RandomForestRegressor(n_estimators=100,\n",
    "                              random_state=3,\n",
    "                              max_samples=0.5,\n",
    "                              max_features=0.75,\n",
    "                              max_depth=15\n",
    "                             )\n",
    "\n",
    "pipe_7 = Pipeline([\n",
    "    ('step1',step1),\n",
    "    ('step2',step2)\n",
    "])\n",
    "\n",
    "pipe_7.fit(X_train,y_train)\n",
    "\n",
    "y_pred_7 = pipe_7.predict(X_test)\n",
    "print('R2 Score',r2_score(y_test,y_pred_7))\n",
    "print('MAE',mean_absolute_error(y_test,y_pred_7))"
   ]
  },
  {
   "cell_type": "markdown",
   "id": "96f21b73",
   "metadata": {},
   "source": [
    "### 8) ExtraTrees:"
   ]
  },
  {
   "cell_type": "code",
   "execution_count": 56,
   "id": "510aa582",
   "metadata": {},
   "outputs": [
    {
     "name": "stdout",
     "output_type": "stream",
     "text": [
      "R2 Score 0.8431683993755568\n",
      "MAE 0.17912901246355648\n"
     ]
    }
   ],
   "source": [
    "step1 = ColumnTransformer(transformers = [\n",
    "    ('col_tnf',OneHotEncoder(sparse=False,drop='first'),[0,1,3,4,9])\n",
    "],remainder='passthrough')\n",
    "\n",
    "step2 = ExtraTreesRegressor(n_estimators=100,\n",
    "                              random_state=3,\n",
    "                              max_samples=0.5,\n",
    "                              max_features=0.75,\n",
    "                              max_depth=15\n",
    "                             )\n",
    "\n",
    "pipe_8 = Pipeline([\n",
    "    ('step1',step1),\n",
    "    ('step2',step2)\n",
    "])\n",
    "\n",
    "pipe_8.fit(X_train,y_train)\n",
    "\n",
    "y_pred_8 = pipe_8.predict(X_test)\n",
    "print('R2 Score',r2_score(y_test,y_pred_8))\n",
    "print('MAE',mean_absolute_error(y_test,y_pred_8))"
   ]
  },
  {
   "cell_type": "markdown",
   "id": "af2f3a42",
   "metadata": {},
   "source": [
    "### 9) AdaBoost:"
   ]
  },
  {
   "cell_type": "code",
   "execution_count": 57,
   "id": "2a071c25",
   "metadata": {},
   "outputs": [
    {
     "name": "stdout",
     "output_type": "stream",
     "text": [
      "R2 Score 0.7663984510652012\n",
      "MAE 0.23668034521657202\n"
     ]
    }
   ],
   "source": [
    "step1 = ColumnTransformer(transformers = [\n",
    "    ('col_tnf',OneHotEncoder(sparse=False,drop='first'),[0,1,3,4,9])\n",
    "],remainder='passthrough')\n",
    "\n",
    "step2 = AdaBoostRegressor(n_estimators=15,learning_rate=1.0)\n",
    "\n",
    "pipe_9 = Pipeline([\n",
    "    ('step1',step1),\n",
    "    ('step2',step2)\n",
    "])\n",
    "\n",
    "pipe_9.fit(X_train,y_train)\n",
    "\n",
    "y_pred_9 = pipe_9.predict(X_test)\n",
    "print('R2 Score',r2_score(y_test,y_pred_9))\n",
    "print('MAE',mean_absolute_error(y_test,y_pred_9))"
   ]
  },
  {
   "cell_type": "markdown",
   "id": "a1ebffa1",
   "metadata": {},
   "source": [
    "### 10) Gradient Boost:"
   ]
  },
  {
   "cell_type": "code",
   "execution_count": 58,
   "id": "4186dccd",
   "metadata": {},
   "outputs": [
    {
     "name": "stdout",
     "output_type": "stream",
     "text": [
      "R2 Score 0.8799116917798144\n",
      "MAE 0.15812936339567393\n"
     ]
    }
   ],
   "source": [
    "step1 = ColumnTransformer(transformers = [\n",
    "    ('col_tnf',OneHotEncoder(sparse=False,drop='first'),[0,1,3,4,9])\n",
    "],remainder='passthrough')\n",
    "\n",
    "step2 = GradientBoostingRegressor(n_estimators=500)\n",
    "\n",
    "pipe_10 = Pipeline([\n",
    "    ('step1',step1),\n",
    "    ('step2',step2)\n",
    "])\n",
    "\n",
    "pipe_10.fit(X_train,y_train)\n",
    "\n",
    "y_pred_10 = pipe_10.predict(X_test)\n",
    "print('R2 Score',r2_score(y_test,y_pred_10))\n",
    "print('MAE',mean_absolute_error(y_test,y_pred_10))"
   ]
  },
  {
   "cell_type": "markdown",
   "id": "4dce4d3b",
   "metadata": {},
   "source": [
    "### 11) XgBoost:"
   ]
  },
  {
   "cell_type": "code",
   "execution_count": 59,
   "id": "62fd2532",
   "metadata": {},
   "outputs": [
    {
     "name": "stdout",
     "output_type": "stream",
     "text": [
      "R2 Score 0.8736492689057659\n",
      "MAE 0.16180583933791678\n"
     ]
    }
   ],
   "source": [
    "step1 = ColumnTransformer(transformers = [\n",
    "    ('col_tnf',OneHotEncoder(sparse=False,drop='first'),[0,1,3,4,9])\n",
    "],remainder='passthrough')\n",
    "\n",
    "step2 = XGBRegressor(n_estimators=45,max_depth=5,learning_rate=0.5)\n",
    "\n",
    "pipe_11 = Pipeline([\n",
    "    ('step1',step1),\n",
    "    ('step2',step2)\n",
    "])\n",
    "\n",
    "pipe_11.fit(X_train,y_train)\n",
    "\n",
    "y_pred_11 = pipe_11.predict(X_test)\n",
    "print('R2 Score',r2_score(y_test,y_pred_11))\n",
    "print('MAE',mean_absolute_error(y_test,y_pred_11))"
   ]
  },
  {
   "cell_type": "markdown",
   "id": "02818cae",
   "metadata": {},
   "source": [
    "### 12) Voting Regressor:"
   ]
  },
  {
   "cell_type": "code",
   "execution_count": 63,
   "id": "a3368adf",
   "metadata": {},
   "outputs": [],
   "source": [
    "from sklearn.ensemble import VotingRegressor, StackingRegressor\n",
    "\n",
    "step1 = ColumnTransformer(transformers = [\n",
    "    ('col_tnf',OneHotEncoder(sparse=False,drop='first'),[0,1,3,4,9])\n",
    "],remainder='passthrough')\n",
    "\n",
    "rf = RandomForestRegressor(n_estimators=350, random_state=3, max_samples=0.5, max_features=0.75, max_depth=15)\n",
    "gbdt = GradientBoostingRegressor(n_estimators=100, max_features= 0.5)\n",
    "xgb = XGBRegressor(n_estimators=25,max_depth=5,learning_rate=0.3)\n",
    "et = step2 = ExtraTreesRegressor(n_estimators=100, random_state=3, max_samples=0.5, max_features=0.75, max_depth=10)\n",
    "\n",
    "step2 = VotingRegressor([('rf',rf),('gbdt',gbdt),('xgb',xgb),('et',et)] ,weights=[5,1,1,1])"
   ]
  },
  {
   "cell_type": "code",
   "execution_count": 65,
   "id": "9030fc58",
   "metadata": {},
   "outputs": [
    {
     "name": "stdout",
     "output_type": "stream",
     "text": [
      "R2 Score 0.8655124551258638\n",
      "MAE 0.17004507928874943\n"
     ]
    }
   ],
   "source": [
    "pipe_12 = Pipeline([\n",
    "    ('step1',step1),\n",
    "    ('step2',step2)\n",
    "])\n",
    "\n",
    "pipe_12.fit(X_train,y_train)\n",
    "\n",
    "y_pred_12 = pipe_12.predict(X_test)\n",
    "\n",
    "print('R2 Score',r2_score(y_test,y_pred_12))\n",
    "print('MAE',mean_absolute_error(y_test,y_pred_12))"
   ]
  },
  {
   "cell_type": "markdown",
   "id": "43a5c91d",
   "metadata": {},
   "source": [
    "### 13) Stacking:"
   ]
  },
  {
   "cell_type": "code",
   "execution_count": 66,
   "id": "09480d35",
   "metadata": {},
   "outputs": [
    {
     "name": "stdout",
     "output_type": "stream",
     "text": [
      "R2 Score 0.857207820884239\n",
      "MAE 0.17921882535986908\n"
     ]
    }
   ],
   "source": [
    "from sklearn.ensemble import VotingRegressor, StackingRegressor\n",
    "\n",
    "step1 = ColumnTransformer(transformers = [\n",
    "    ('col_tnf',OneHotEncoder(sparse=False,drop='first'),[0,1,3,4,9])\n",
    "],remainder='passthrough')\n",
    "\n",
    "estimators = [\n",
    "    ('rf', RandomForestRegressor(n_estimators=350, random_state=3, max_samples=0.5, max_features=0.75, max_depth=15)),\n",
    "    ('gbdt', GradientBoostingRegressor(n_estimators=100, max_features= 0.5)),\n",
    "    ('xgb', XGBRegressor(n_estimators=25,max_depth=5,learning_rate=0.3))\n",
    "]\n",
    "\n",
    "step2 = StackingRegressor(estimators=estimators, final_estimator=Ridge(alpha=100))\n",
    "\n",
    "pipe_13 = Pipeline([\n",
    "    ('step1',step1),\n",
    "    ('step2',step2)\n",
    "])\n",
    "\n",
    "pipe_13.fit(X_train,y_train)\n",
    "\n",
    "y_pred_13 = pipe_13.predict(X_test)\n",
    "\n",
    "print('R2 Score',r2_score(y_test,y_pred_13))\n",
    "print('MAE',mean_absolute_error(y_test,y_pred_13))"
   ]
  },
  {
   "cell_type": "markdown",
   "id": "6406d35d",
   "metadata": {},
   "source": [
    "## 4) Exporting the best Model: RandomForestRegressor"
   ]
  },
  {
   "cell_type": "code",
   "execution_count": 67,
   "id": "10d1d0d6",
   "metadata": {},
   "outputs": [],
   "source": [
    "import pickle\n",
    "\n",
    "pickle.dump(df,open('F:/Data Science/Data Sets/Laptop Price Prediction/df.pkl','wb'))\n",
    "pickle.dump(pipe_7,open('F:/Data Science/Data Sets/Laptop Price Prediction/pipe.pkl','wb'))"
   ]
  },
  {
   "cell_type": "code",
   "execution_count": null,
   "id": "c745264b",
   "metadata": {},
   "outputs": [],
   "source": []
  }
 ],
 "metadata": {
  "kernelspec": {
   "display_name": "Python 3",
   "language": "python",
   "name": "python3"
  },
  "language_info": {
   "codemirror_mode": {
    "name": "ipython",
    "version": 3
   },
   "file_extension": ".py",
   "mimetype": "text/x-python",
   "name": "python",
   "nbconvert_exporter": "python",
   "pygments_lexer": "ipython3",
   "version": "3.8.5"
  }
 },
 "nbformat": 4,
 "nbformat_minor": 5
}
